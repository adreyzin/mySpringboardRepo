{
 "cells": [
  {
   "cell_type": "markdown",
   "metadata": {},
   "source": [
    "#Weekly Counts of Deaths by State and Select Causes, 2014-2018\n",
    "\n",
    "Final counts of deaths by the week the deaths occurred, by state of occurrence, and by select causes of death for 2014-2018. \n",
    "\n",
    "- In addition to the State and the Week, Week ending date is also provided - this is redundant data and either Week or Week ending date should be dropped.\n",
    "- Each cause of death column has count columb (integer) and matching \"flag\" column that has value if the numbers were in a range from 1 to 9 and therefore suppresed.\n",
    "\n",
    "Death counts in this dataset were derived from the National Vital Statistics System database that provides the most timely access to the data. Therefore, counts may differ slightly from final data due to differences in processing, recoding, and imputation.\n",
    "\n",
    "Source: https://data.cdc.gov/NCHS/Weekly-Counts-of-Deaths-by-State-and-Select-Causes/3yf8-kanr"
   ]
  },
  {
   "cell_type": "markdown",
   "metadata": {},
   "source": [
    "### I would like to research tendencies for the \"Influenza and pneumonia (J10-J18)\" cause of death. Possibly see what states at what time of the year have higher numbers."
   ]
  },
  {
   "cell_type": "code",
   "execution_count": 17,
   "metadata": {},
   "outputs": [],
   "source": [
    "#load python packages\n",
    "import os\n",
    "import pandas as pd\n",
    "import datetime\n",
    "import seaborn as sns\n",
    "\n",
    "import numpy as np\n",
    "%matplotlib inline\n",
    "import matplotlib.pyplot as plt\n",
    "from pandas_profiling import ProfileReport\n",
    "from urllib.request import urlretrieve\n",
    "\n"
   ]
  },
  {
   "cell_type": "code",
   "execution_count": 2,
   "metadata": {},
   "outputs": [],
   "source": [
    "#Database URL\n",
    "url = 'https://data.cdc.gov/api/views/3yf8-kanr/rows.csv'\n",
    "df = pd.read_csv(url)"
   ]
  },
  {
   "cell_type": "code",
   "execution_count": 3,
   "metadata": {},
   "outputs": [
    {
     "data": {
      "text/plain": [
       "<bound method NDFrame.describe of       Jurisdiction of Occurrence  MMWR Year  MMWR Week Week Ending Date  \\\n",
       "0                        Alabama       2014          1       01/04/2014   \n",
       "1                        Alabama       2014          2       01/11/2014   \n",
       "2                        Alabama       2014          3       01/18/2014   \n",
       "3                        Alabama       2014          4       01/25/2014   \n",
       "4                        Alabama       2014          5       02/01/2014   \n",
       "...                          ...        ...        ...              ...   \n",
       "14089              United States       2018         48       12/01/2018   \n",
       "14090              United States       2018         49       12/08/2018   \n",
       "14091              United States       2018         50       12/15/2018   \n",
       "14092              United States       2018         51       12/22/2018   \n",
       "14093              United States       2018         52       12/29/2018   \n",
       "\n",
       "       All  Cause  Natural Cause  Septicemia (A40-A41)  \\\n",
       "0             355            327                   NaN   \n",
       "1             872            792                  23.0   \n",
       "2            1044            971                  21.0   \n",
       "3            1022            967                  25.0   \n",
       "4            1040            953                  18.0   \n",
       "...           ...            ...                   ...   \n",
       "14089       55210          50797                 766.0   \n",
       "14090       56095          51413                 814.0   \n",
       "14091       56530          52053                 823.0   \n",
       "14092       56689          52035                 850.0   \n",
       "14093       56163          51710                 799.0   \n",
       "\n",
       "       Malignant neoplasms (C00-C97)  Diabetes mellitus (E10-E14)  \\\n",
       "0                               60.0                          NaN   \n",
       "1                              163.0                         23.0   \n",
       "2                              209.0                         34.0   \n",
       "3                              205.0                         23.0   \n",
       "4                              200.0                         26.0   \n",
       "...                              ...                          ...   \n",
       "14089                        11405.0                       1725.0   \n",
       "14090                        11715.0                       1769.0   \n",
       "14091                        11917.0                       1665.0   \n",
       "14092                        11753.0                       1754.0   \n",
       "14093                        11441.0                       1711.0   \n",
       "\n",
       "       Alzheimer disease (G30)  ...  flag_neopl                flag_diab  \\\n",
       "0                         10.0  ...         NaN  Suppressed (counts 1-9)   \n",
       "1                         35.0  ...         NaN                      NaN   \n",
       "2                         31.0  ...         NaN                      NaN   \n",
       "3                         25.0  ...         NaN                      NaN   \n",
       "4                         38.0  ...         NaN                      NaN   \n",
       "...                        ...  ...         ...                      ...   \n",
       "14089                   2385.0  ...         NaN                      NaN   \n",
       "14090                   2469.0  ...         NaN                      NaN   \n",
       "14091                   2508.0  ...         NaN                      NaN   \n",
       "14092                   2501.0  ...         NaN                      NaN   \n",
       "14093                   2409.0  ...         NaN                      NaN   \n",
       "\n",
       "       flag_alz              flag_inflpn  flag_clrd           flag_otherresp  \\\n",
       "0           NaN  Suppressed (counts 1-9)        NaN  Suppressed (counts 1-9)   \n",
       "1           NaN                      NaN        NaN                      NaN   \n",
       "2           NaN                      NaN        NaN                      NaN   \n",
       "3           NaN                      NaN        NaN                      NaN   \n",
       "4           NaN                      NaN        NaN                      NaN   \n",
       "...         ...                      ...        ...                      ...   \n",
       "14089       NaN                      NaN        NaN                      NaN   \n",
       "14090       NaN                      NaN        NaN                      NaN   \n",
       "14091       NaN                      NaN        NaN                      NaN   \n",
       "14092       NaN                      NaN        NaN                      NaN   \n",
       "14093       NaN                      NaN        NaN                      NaN   \n",
       "\n",
       "                    flag_nephr  flag_otherunk  flag_hd flag_stroke  \n",
       "0      Suppressed (counts 1-9)            NaN      NaN         NaN  \n",
       "1                          NaN            NaN      NaN         NaN  \n",
       "2                          NaN            NaN      NaN         NaN  \n",
       "3                          NaN            NaN      NaN         NaN  \n",
       "4                          NaN            NaN      NaN         NaN  \n",
       "...                        ...            ...      ...         ...  \n",
       "14089                      NaN            NaN      NaN         NaN  \n",
       "14090                      NaN            NaN      NaN         NaN  \n",
       "14091                      NaN            NaN      NaN         NaN  \n",
       "14092                      NaN            NaN      NaN         NaN  \n",
       "14093                      NaN            NaN      NaN         NaN  \n",
       "\n",
       "[14094 rows x 30 columns]>"
      ]
     },
     "execution_count": 3,
     "metadata": {},
     "output_type": "execute_result"
    }
   ],
   "source": [
    "df.describe"
   ]
  },
  {
   "cell_type": "code",
   "execution_count": 4,
   "metadata": {},
   "outputs": [],
   "source": [
    "#profile = ProfileReport(df)"
   ]
  },
  {
   "cell_type": "code",
   "execution_count": 6,
   "metadata": {},
   "outputs": [
    {
     "data": {
      "text/plain": [
       "Index(['Jurisdiction of Occurrence', 'MMWR Year', 'MMWR Week',\n",
       "       'Week Ending Date', 'All  Cause', 'Natural Cause',\n",
       "       'Septicemia (A40-A41)', 'Malignant neoplasms (C00-C97)',\n",
       "       'Diabetes mellitus (E10-E14)', 'Alzheimer disease (G30)',\n",
       "       'Influenza and pneumonia (J10-J18)',\n",
       "       'Chronic lower respiratory diseases (J40-J47)',\n",
       "       'Other diseases of respiratory system (J00-J06,J30-J39,J67,J70-J98)',\n",
       "       'Nephritis, nephrotic syndrome and nephrosis (N00-N07,N17-N19,N25-N27)',\n",
       "       'Symptoms, signs and abnormal clinical and laboratory findings, not elsewhere classified (R00-R99)',\n",
       "       'Diseases of heart (I00-I09,I11,I13,I20-I51)',\n",
       "       'Cerebrovascular diseases (I60-I69)', 'flag_allcause', 'flag_natcause',\n",
       "       'flag_sept', 'flag_neopl', 'flag_diab', 'flag_alz', 'flag_inflpn',\n",
       "       'flag_clrd', 'flag_otherresp', 'flag_nephr', 'flag_otherunk', 'flag_hd',\n",
       "       'flag_stroke'],\n",
       "      dtype='object')"
      ]
     },
     "execution_count": 6,
     "metadata": {},
     "output_type": "execute_result"
    }
   ],
   "source": [
    "df.columns"
   ]
  },
  {
   "cell_type": "code",
   "execution_count": 7,
   "metadata": {},
   "outputs": [
    {
     "data": {
      "text/html": [
       "<div>\n",
       "<style scoped>\n",
       "    .dataframe tbody tr th:only-of-type {\n",
       "        vertical-align: middle;\n",
       "    }\n",
       "\n",
       "    .dataframe tbody tr th {\n",
       "        vertical-align: top;\n",
       "    }\n",
       "\n",
       "    .dataframe thead th {\n",
       "        text-align: right;\n",
       "    }\n",
       "</style>\n",
       "<table border=\"1\" class=\"dataframe\">\n",
       "  <thead>\n",
       "    <tr style=\"text-align: right;\">\n",
       "      <th></th>\n",
       "      <th>Jurisdiction of Occurrence</th>\n",
       "      <th>Week Ending Date</th>\n",
       "      <th>Influenza and pneumonia (J10-J18)</th>\n",
       "      <th>flag_inflpn</th>\n",
       "    </tr>\n",
       "  </thead>\n",
       "  <tbody>\n",
       "    <tr>\n",
       "      <th>0</th>\n",
       "      <td>Alabama</td>\n",
       "      <td>01/04/2014</td>\n",
       "      <td>NaN</td>\n",
       "      <td>Suppressed (counts 1-9)</td>\n",
       "    </tr>\n",
       "    <tr>\n",
       "      <th>1</th>\n",
       "      <td>Alabama</td>\n",
       "      <td>01/11/2014</td>\n",
       "      <td>32.0</td>\n",
       "      <td>NaN</td>\n",
       "    </tr>\n",
       "    <tr>\n",
       "      <th>2</th>\n",
       "      <td>Alabama</td>\n",
       "      <td>01/18/2014</td>\n",
       "      <td>33.0</td>\n",
       "      <td>NaN</td>\n",
       "    </tr>\n",
       "    <tr>\n",
       "      <th>3</th>\n",
       "      <td>Alabama</td>\n",
       "      <td>01/25/2014</td>\n",
       "      <td>42.0</td>\n",
       "      <td>NaN</td>\n",
       "    </tr>\n",
       "    <tr>\n",
       "      <th>4</th>\n",
       "      <td>Alabama</td>\n",
       "      <td>02/01/2014</td>\n",
       "      <td>26.0</td>\n",
       "      <td>NaN</td>\n",
       "    </tr>\n",
       "    <tr>\n",
       "      <th>...</th>\n",
       "      <td>...</td>\n",
       "      <td>...</td>\n",
       "      <td>...</td>\n",
       "      <td>...</td>\n",
       "    </tr>\n",
       "    <tr>\n",
       "      <th>14089</th>\n",
       "      <td>United States</td>\n",
       "      <td>12/01/2018</td>\n",
       "      <td>908.0</td>\n",
       "      <td>NaN</td>\n",
       "    </tr>\n",
       "    <tr>\n",
       "      <th>14090</th>\n",
       "      <td>United States</td>\n",
       "      <td>12/08/2018</td>\n",
       "      <td>962.0</td>\n",
       "      <td>NaN</td>\n",
       "    </tr>\n",
       "    <tr>\n",
       "      <th>14091</th>\n",
       "      <td>United States</td>\n",
       "      <td>12/15/2018</td>\n",
       "      <td>976.0</td>\n",
       "      <td>NaN</td>\n",
       "    </tr>\n",
       "    <tr>\n",
       "      <th>14092</th>\n",
       "      <td>United States</td>\n",
       "      <td>12/22/2018</td>\n",
       "      <td>1003.0</td>\n",
       "      <td>NaN</td>\n",
       "    </tr>\n",
       "    <tr>\n",
       "      <th>14093</th>\n",
       "      <td>United States</td>\n",
       "      <td>12/29/2018</td>\n",
       "      <td>1088.0</td>\n",
       "      <td>NaN</td>\n",
       "    </tr>\n",
       "  </tbody>\n",
       "</table>\n",
       "<p>14094 rows × 4 columns</p>\n",
       "</div>"
      ],
      "text/plain": [
       "      Jurisdiction of Occurrence Week Ending Date  \\\n",
       "0                        Alabama       01/04/2014   \n",
       "1                        Alabama       01/11/2014   \n",
       "2                        Alabama       01/18/2014   \n",
       "3                        Alabama       01/25/2014   \n",
       "4                        Alabama       02/01/2014   \n",
       "...                          ...              ...   \n",
       "14089              United States       12/01/2018   \n",
       "14090              United States       12/08/2018   \n",
       "14091              United States       12/15/2018   \n",
       "14092              United States       12/22/2018   \n",
       "14093              United States       12/29/2018   \n",
       "\n",
       "       Influenza and pneumonia (J10-J18)              flag_inflpn  \n",
       "0                                    NaN  Suppressed (counts 1-9)  \n",
       "1                                   32.0                      NaN  \n",
       "2                                   33.0                      NaN  \n",
       "3                                   42.0                      NaN  \n",
       "4                                   26.0                      NaN  \n",
       "...                                  ...                      ...  \n",
       "14089                              908.0                      NaN  \n",
       "14090                              962.0                      NaN  \n",
       "14091                              976.0                      NaN  \n",
       "14092                             1003.0                      NaN  \n",
       "14093                             1088.0                      NaN  \n",
       "\n",
       "[14094 rows x 4 columns]"
      ]
     },
     "execution_count": 7,
     "metadata": {},
     "output_type": "execute_result"
    }
   ],
   "source": [
    "df[['Jurisdiction of Occurrence','Week Ending Date','Influenza and pneumonia (J10-J18)','flag_inflpn']]"
   ]
  },
  {
   "cell_type": "code",
   "execution_count": 20,
   "metadata": {},
   "outputs": [
    {
     "data": {
      "text/plain": [
       "[<matplotlib.lines.Line2D at 0x24f43836e88>]"
      ]
     },
     "execution_count": 20,
     "metadata": {},
     "output_type": "execute_result"
    },
    {
     "data": {
      "image/png": "[encoded data removed]",
      "text/plain": [
       "<Figure size 432x288 with 1 Axes>"
      ]
     },
     "metadata": {
      "needs_background": "light"
     },
     "output_type": "display_data"
    }
   ],
   "source": [
    "plt.plot_date(df['Week Ending Date'], df['Influenza and pneumonia (J10-J18)'])"
   ]
  }
 ],
 "metadata": {
  "kernelspec": {
   "display_name": "Python 3",
   "language": "python",
   "name": "python3"
  },
  "language_info": {
   "codemirror_mode": {
    "name": "ipython",
    "version": 3
   },
   "file_extension": ".py",
   "mimetype": "text/x-python",
   "name": "python",
   "nbconvert_exporter": "python",
   "pygments_lexer": "ipython3",
   "version": "3.7.6"
  }
 },
 "nbformat": 4,
 "nbformat_minor": 4
}
