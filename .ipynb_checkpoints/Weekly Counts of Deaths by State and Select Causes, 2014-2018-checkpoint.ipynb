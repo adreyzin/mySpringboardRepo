{
 "cells": [
  {
   "cell_type": "markdown",
   "metadata": {},
   "source": [
    "#Weekly Counts of Deaths by State and Select Causes, 2014-2018\n",
    "\n",
    "Final counts of deaths by the week the deaths occurred, by state of occurrence, and by select causes of death for 2014-2018. The dataset contains 14094 records and 30 columns. \n",
    "\n",
    "- In addition to the State and the Week, Week ending date is also provided - this is redundant data and either Week or Week ending date should be dropped.\n",
    "- Each cause of death column has count columb (integer) and matching \"flag\" column that has value if the numbers were in a range from 1 to 9 and therefore suppresed.\n",
    "\n",
    "Death counts in this dataset were derived from the National Vital Statistics System database that provides the most timely access to the data. Therefore, counts may differ slightly from final data due to differences in processing, recoding, and imputation.\n",
    "\n",
    "Source: https://data.cdc.gov/NCHS/Weekly-Counts-of-Deaths-by-State-and-Select-Causes/3yf8-kanr"
   ]
  },
  {
   "cell_type": "markdown",
   "metadata": {},
   "source": [
    "### I would like to research tendencies for the \"Influenza and pneumonia (J10-J18)\" cause of death. Possibly see what states at what time of the year have higher numbers."
   ]
  },
  {
   "cell_type": "code",
   "execution_count": 1,
   "metadata": {},
   "outputs": [],
   "source": [
    "#load python packages\n",
    "import os\n",
    "import pandas as pd\n",
    "import datetime\n",
    "import seaborn as sns\n",
    "\n",
    "import numpy as np\n",
    "%matplotlib inline\n",
    "import matplotlib.pyplot as plt\n",
    "from pandas_profiling import ProfileReport\n",
    "from urllib.request import urlretrieve"
   ]
  },
  {
   "cell_type": "code",
   "execution_count": 2,
   "metadata": {},
   "outputs": [
    {
     "data": {
      "text/html": [
       "<div>\n",
       "<style scoped>\n",
       "    .dataframe tbody tr th:only-of-type {\n",
       "        vertical-align: middle;\n",
       "    }\n",
       "\n",
       "    .dataframe tbody tr th {\n",
       "        vertical-align: top;\n",
       "    }\n",
       "\n",
       "    .dataframe thead th {\n",
       "        text-align: right;\n",
       "    }\n",
       "</style>\n",
       "<table border=\"1\" class=\"dataframe\">\n",
       "  <thead>\n",
       "    <tr style=\"text-align: right;\">\n",
       "      <th></th>\n",
       "      <th>Jurisdiction of Occurrence</th>\n",
       "      <th>MMWR Year</th>\n",
       "      <th>MMWR Week</th>\n",
       "      <th>Week Ending Date</th>\n",
       "      <th>All  Cause</th>\n",
       "      <th>Natural Cause</th>\n",
       "      <th>Septicemia (A40-A41)</th>\n",
       "      <th>Malignant neoplasms (C00-C97)</th>\n",
       "      <th>Diabetes mellitus (E10-E14)</th>\n",
       "      <th>Alzheimer disease (G30)</th>\n",
       "      <th>...</th>\n",
       "      <th>flag_neopl</th>\n",
       "      <th>flag_diab</th>\n",
       "      <th>flag_alz</th>\n",
       "      <th>flag_inflpn</th>\n",
       "      <th>flag_clrd</th>\n",
       "      <th>flag_otherresp</th>\n",
       "      <th>flag_nephr</th>\n",
       "      <th>flag_otherunk</th>\n",
       "      <th>flag_hd</th>\n",
       "      <th>flag_stroke</th>\n",
       "    </tr>\n",
       "  </thead>\n",
       "  <tbody>\n",
       "    <tr>\n",
       "      <th>0</th>\n",
       "      <td>Alabama</td>\n",
       "      <td>2014</td>\n",
       "      <td>1</td>\n",
       "      <td>01/04/2014</td>\n",
       "      <td>355</td>\n",
       "      <td>327</td>\n",
       "      <td>NaN</td>\n",
       "      <td>60.0</td>\n",
       "      <td>NaN</td>\n",
       "      <td>10.0</td>\n",
       "      <td>...</td>\n",
       "      <td>NaN</td>\n",
       "      <td>Suppressed (counts 1-9)</td>\n",
       "      <td>NaN</td>\n",
       "      <td>Suppressed (counts 1-9)</td>\n",
       "      <td>NaN</td>\n",
       "      <td>Suppressed (counts 1-9)</td>\n",
       "      <td>Suppressed (counts 1-9)</td>\n",
       "      <td>NaN</td>\n",
       "      <td>NaN</td>\n",
       "      <td>NaN</td>\n",
       "    </tr>\n",
       "    <tr>\n",
       "      <th>1</th>\n",
       "      <td>Alabama</td>\n",
       "      <td>2014</td>\n",
       "      <td>2</td>\n",
       "      <td>01/11/2014</td>\n",
       "      <td>872</td>\n",
       "      <td>792</td>\n",
       "      <td>23.0</td>\n",
       "      <td>163.0</td>\n",
       "      <td>23.0</td>\n",
       "      <td>35.0</td>\n",
       "      <td>...</td>\n",
       "      <td>NaN</td>\n",
       "      <td>NaN</td>\n",
       "      <td>NaN</td>\n",
       "      <td>NaN</td>\n",
       "      <td>NaN</td>\n",
       "      <td>NaN</td>\n",
       "      <td>NaN</td>\n",
       "      <td>NaN</td>\n",
       "      <td>NaN</td>\n",
       "      <td>NaN</td>\n",
       "    </tr>\n",
       "    <tr>\n",
       "      <th>2</th>\n",
       "      <td>Alabama</td>\n",
       "      <td>2014</td>\n",
       "      <td>3</td>\n",
       "      <td>01/18/2014</td>\n",
       "      <td>1044</td>\n",
       "      <td>971</td>\n",
       "      <td>21.0</td>\n",
       "      <td>209.0</td>\n",
       "      <td>34.0</td>\n",
       "      <td>31.0</td>\n",
       "      <td>...</td>\n",
       "      <td>NaN</td>\n",
       "      <td>NaN</td>\n",
       "      <td>NaN</td>\n",
       "      <td>NaN</td>\n",
       "      <td>NaN</td>\n",
       "      <td>NaN</td>\n",
       "      <td>NaN</td>\n",
       "      <td>NaN</td>\n",
       "      <td>NaN</td>\n",
       "      <td>NaN</td>\n",
       "    </tr>\n",
       "    <tr>\n",
       "      <th>3</th>\n",
       "      <td>Alabama</td>\n",
       "      <td>2014</td>\n",
       "      <td>4</td>\n",
       "      <td>01/25/2014</td>\n",
       "      <td>1022</td>\n",
       "      <td>967</td>\n",
       "      <td>25.0</td>\n",
       "      <td>205.0</td>\n",
       "      <td>23.0</td>\n",
       "      <td>25.0</td>\n",
       "      <td>...</td>\n",
       "      <td>NaN</td>\n",
       "      <td>NaN</td>\n",
       "      <td>NaN</td>\n",
       "      <td>NaN</td>\n",
       "      <td>NaN</td>\n",
       "      <td>NaN</td>\n",
       "      <td>NaN</td>\n",
       "      <td>NaN</td>\n",
       "      <td>NaN</td>\n",
       "      <td>NaN</td>\n",
       "    </tr>\n",
       "    <tr>\n",
       "      <th>4</th>\n",
       "      <td>Alabama</td>\n",
       "      <td>2014</td>\n",
       "      <td>5</td>\n",
       "      <td>02/01/2014</td>\n",
       "      <td>1040</td>\n",
       "      <td>953</td>\n",
       "      <td>18.0</td>\n",
       "      <td>200.0</td>\n",
       "      <td>26.0</td>\n",
       "      <td>38.0</td>\n",
       "      <td>...</td>\n",
       "      <td>NaN</td>\n",
       "      <td>NaN</td>\n",
       "      <td>NaN</td>\n",
       "      <td>NaN</td>\n",
       "      <td>NaN</td>\n",
       "      <td>NaN</td>\n",
       "      <td>NaN</td>\n",
       "      <td>NaN</td>\n",
       "      <td>NaN</td>\n",
       "      <td>NaN</td>\n",
       "    </tr>\n",
       "  </tbody>\n",
       "</table>\n",
       "<p>5 rows × 30 columns</p>\n",
       "</div>"
      ],
      "text/plain": [
       "  Jurisdiction of Occurrence  MMWR Year  MMWR Week Week Ending Date  \\\n",
       "0                    Alabama       2014          1       01/04/2014   \n",
       "1                    Alabama       2014          2       01/11/2014   \n",
       "2                    Alabama       2014          3       01/18/2014   \n",
       "3                    Alabama       2014          4       01/25/2014   \n",
       "4                    Alabama       2014          5       02/01/2014   \n",
       "\n",
       "   All  Cause  Natural Cause  Septicemia (A40-A41)  \\\n",
       "0         355            327                   NaN   \n",
       "1         872            792                  23.0   \n",
       "2        1044            971                  21.0   \n",
       "3        1022            967                  25.0   \n",
       "4        1040            953                  18.0   \n",
       "\n",
       "   Malignant neoplasms (C00-C97)  Diabetes mellitus (E10-E14)  \\\n",
       "0                           60.0                          NaN   \n",
       "1                          163.0                         23.0   \n",
       "2                          209.0                         34.0   \n",
       "3                          205.0                         23.0   \n",
       "4                          200.0                         26.0   \n",
       "\n",
       "   Alzheimer disease (G30)  ...  flag_neopl                flag_diab  \\\n",
       "0                     10.0  ...         NaN  Suppressed (counts 1-9)   \n",
       "1                     35.0  ...         NaN                      NaN   \n",
       "2                     31.0  ...         NaN                      NaN   \n",
       "3                     25.0  ...         NaN                      NaN   \n",
       "4                     38.0  ...         NaN                      NaN   \n",
       "\n",
       "   flag_alz              flag_inflpn  flag_clrd           flag_otherresp  \\\n",
       "0       NaN  Suppressed (counts 1-9)        NaN  Suppressed (counts 1-9)   \n",
       "1       NaN                      NaN        NaN                      NaN   \n",
       "2       NaN                      NaN        NaN                      NaN   \n",
       "3       NaN                      NaN        NaN                      NaN   \n",
       "4       NaN                      NaN        NaN                      NaN   \n",
       "\n",
       "                flag_nephr  flag_otherunk  flag_hd flag_stroke  \n",
       "0  Suppressed (counts 1-9)            NaN      NaN         NaN  \n",
       "1                      NaN            NaN      NaN         NaN  \n",
       "2                      NaN            NaN      NaN         NaN  \n",
       "3                      NaN            NaN      NaN         NaN  \n",
       "4                      NaN            NaN      NaN         NaN  \n",
       "\n",
       "[5 rows x 30 columns]"
      ]
     },
     "execution_count": 2,
     "metadata": {},
     "output_type": "execute_result"
    }
   ],
   "source": [
    "#Database URL\n",
    "url = 'https://data.cdc.gov/api/views/3yf8-kanr/rows.csv'\n",
    "df = pd.read_csv(url)\n",
    "df.head()"
   ]
  },
  {
   "cell_type": "code",
   "execution_count": 3,
   "metadata": {},
   "outputs": [
    {
     "name": "stdout",
     "output_type": "stream",
     "text": [
      "df shape:  (14094, 30)\n"
     ]
    },
    {
     "data": {
      "text/html": [
       "<div>\n",
       "<style scoped>\n",
       "    .dataframe tbody tr th:only-of-type {\n",
       "        vertical-align: middle;\n",
       "    }\n",
       "\n",
       "    .dataframe tbody tr th {\n",
       "        vertical-align: top;\n",
       "    }\n",
       "\n",
       "    .dataframe thead th {\n",
       "        text-align: right;\n",
       "    }\n",
       "</style>\n",
       "<table border=\"1\" class=\"dataframe\">\n",
       "  <thead>\n",
       "    <tr style=\"text-align: right;\">\n",
       "      <th></th>\n",
       "      <th>count</th>\n",
       "      <th>mean</th>\n",
       "      <th>std</th>\n",
       "      <th>min</th>\n",
       "      <th>25%</th>\n",
       "      <th>50%</th>\n",
       "      <th>75%</th>\n",
       "      <th>max</th>\n",
       "    </tr>\n",
       "  </thead>\n",
       "  <tbody>\n",
       "    <tr>\n",
       "      <th>MMWR Year</th>\n",
       "      <td>14094.0</td>\n",
       "      <td>2015.992337</td>\n",
       "      <td>1.416950</td>\n",
       "      <td>2014.0</td>\n",
       "      <td>2015.0</td>\n",
       "      <td>2016.0</td>\n",
       "      <td>2017.00</td>\n",
       "      <td>2018.0</td>\n",
       "    </tr>\n",
       "    <tr>\n",
       "      <th>MMWR Week</th>\n",
       "      <td>14094.0</td>\n",
       "      <td>26.601533</td>\n",
       "      <td>15.069286</td>\n",
       "      <td>1.0</td>\n",
       "      <td>14.0</td>\n",
       "      <td>27.0</td>\n",
       "      <td>40.00</td>\n",
       "      <td>53.0</td>\n",
       "    </tr>\n",
       "    <tr>\n",
       "      <th>All  Cause</th>\n",
       "      <td>14094.0</td>\n",
       "      <td>1958.513197</td>\n",
       "      <td>7045.593511</td>\n",
       "      <td>50.0</td>\n",
       "      <td>309.0</td>\n",
       "      <td>780.0</td>\n",
       "      <td>1287.00</td>\n",
       "      <td>67664.0</td>\n",
       "    </tr>\n",
       "    <tr>\n",
       "      <th>Natural Cause</th>\n",
       "      <td>14094.0</td>\n",
       "      <td>1794.083156</td>\n",
       "      <td>6456.339032</td>\n",
       "      <td>43.0</td>\n",
       "      <td>276.0</td>\n",
       "      <td>709.0</td>\n",
       "      <td>1182.75</td>\n",
       "      <td>62704.0</td>\n",
       "    </tr>\n",
       "    <tr>\n",
       "      <th>Septicemia (A40-A41)</th>\n",
       "      <td>7947.0</td>\n",
       "      <td>48.090726</td>\n",
       "      <td>135.598314</td>\n",
       "      <td>0.0</td>\n",
       "      <td>13.0</td>\n",
       "      <td>20.0</td>\n",
       "      <td>32.00</td>\n",
       "      <td>1067.0</td>\n",
       "    </tr>\n",
       "    <tr>\n",
       "      <th>Malignant neoplasms (C00-C97)</th>\n",
       "      <td>14084.0</td>\n",
       "      <td>425.051122</td>\n",
       "      <td>1527.189508</td>\n",
       "      <td>10.0</td>\n",
       "      <td>63.0</td>\n",
       "      <td>165.0</td>\n",
       "      <td>278.00</td>\n",
       "      <td>12433.0</td>\n",
       "    </tr>\n",
       "    <tr>\n",
       "      <th>Diabetes mellitus (E10-E14)</th>\n",
       "      <td>10548.0</td>\n",
       "      <td>76.507300</td>\n",
       "      <td>237.803654</td>\n",
       "      <td>0.0</td>\n",
       "      <td>20.0</td>\n",
       "      <td>30.0</td>\n",
       "      <td>48.00</td>\n",
       "      <td>2113.0</td>\n",
       "    </tr>\n",
       "    <tr>\n",
       "      <th>Alzheimer disease (G30)</th>\n",
       "      <td>11272.0</td>\n",
       "      <td>99.396380</td>\n",
       "      <td>324.017824</td>\n",
       "      <td>0.0</td>\n",
       "      <td>22.0</td>\n",
       "      <td>38.0</td>\n",
       "      <td>62.00</td>\n",
       "      <td>3212.0</td>\n",
       "    </tr>\n",
       "    <tr>\n",
       "      <th>Influenza and pneumonia (J10-J18)</th>\n",
       "      <td>9088.0</td>\n",
       "      <td>59.098702</td>\n",
       "      <td>189.145124</td>\n",
       "      <td>0.0</td>\n",
       "      <td>14.0</td>\n",
       "      <td>22.0</td>\n",
       "      <td>39.00</td>\n",
       "      <td>2939.0</td>\n",
       "    </tr>\n",
       "    <tr>\n",
       "      <th>Chronic lower respiratory diseases (J40-J47)</th>\n",
       "      <td>12194.0</td>\n",
       "      <td>126.678940</td>\n",
       "      <td>428.392662</td>\n",
       "      <td>0.0</td>\n",
       "      <td>28.0</td>\n",
       "      <td>49.0</td>\n",
       "      <td>85.00</td>\n",
       "      <td>4382.0</td>\n",
       "    </tr>\n",
       "    <tr>\n",
       "      <th>Other diseases of respiratory system (J00-J06,J30-J39,J67,J70-J98)</th>\n",
       "      <td>7946.0</td>\n",
       "      <td>46.929650</td>\n",
       "      <td>133.758358</td>\n",
       "      <td>0.0</td>\n",
       "      <td>13.0</td>\n",
       "      <td>19.0</td>\n",
       "      <td>31.00</td>\n",
       "      <td>1088.0</td>\n",
       "    </tr>\n",
       "    <tr>\n",
       "      <th>Nephritis, nephrotic syndrome and nephrosis (N00-N07,N17-N19,N25-N27)</th>\n",
       "      <td>8607.0</td>\n",
       "      <td>55.620890</td>\n",
       "      <td>161.312268</td>\n",
       "      <td>0.0</td>\n",
       "      <td>14.0</td>\n",
       "      <td>23.0</td>\n",
       "      <td>38.00</td>\n",
       "      <td>1240.0</td>\n",
       "    </tr>\n",
       "    <tr>\n",
       "      <th>Symptoms, signs and abnormal clinical and laboratory findings, not elsewhere classified (R00-R99)</th>\n",
       "      <td>7208.0</td>\n",
       "      <td>40.378052</td>\n",
       "      <td>111.712377</td>\n",
       "      <td>0.0</td>\n",
       "      <td>11.0</td>\n",
       "      <td>16.0</td>\n",
       "      <td>25.00</td>\n",
       "      <td>776.0</td>\n",
       "    </tr>\n",
       "    <tr>\n",
       "      <th>Diseases of heart (I00-I09,I11,I13,I20-I51)</th>\n",
       "      <td>14077.0</td>\n",
       "      <td>454.524473</td>\n",
       "      <td>1638.454125</td>\n",
       "      <td>10.0</td>\n",
       "      <td>64.0</td>\n",
       "      <td>171.0</td>\n",
       "      <td>307.00</td>\n",
       "      <td>16074.0</td>\n",
       "    </tr>\n",
       "    <tr>\n",
       "      <th>Cerebrovascular diseases (I60-I69)</th>\n",
       "      <td>11950.0</td>\n",
       "      <td>118.217071</td>\n",
       "      <td>394.154024</td>\n",
       "      <td>0.0</td>\n",
       "      <td>24.0</td>\n",
       "      <td>44.0</td>\n",
       "      <td>74.00</td>\n",
       "      <td>3372.0</td>\n",
       "    </tr>\n",
       "    <tr>\n",
       "      <th>flag_allcause</th>\n",
       "      <td>0.0</td>\n",
       "      <td>NaN</td>\n",
       "      <td>NaN</td>\n",
       "      <td>NaN</td>\n",
       "      <td>NaN</td>\n",
       "      <td>NaN</td>\n",
       "      <td>NaN</td>\n",
       "      <td>NaN</td>\n",
       "    </tr>\n",
       "    <tr>\n",
       "      <th>flag_natcause</th>\n",
       "      <td>0.0</td>\n",
       "      <td>NaN</td>\n",
       "      <td>NaN</td>\n",
       "      <td>NaN</td>\n",
       "      <td>NaN</td>\n",
       "      <td>NaN</td>\n",
       "      <td>NaN</td>\n",
       "      <td>NaN</td>\n",
       "    </tr>\n",
       "  </tbody>\n",
       "</table>\n",
       "</div>"
      ],
      "text/plain": [
       "                                                      count         mean  \\\n",
       "MMWR Year                                           14094.0  2015.992337   \n",
       "MMWR Week                                           14094.0    26.601533   \n",
       "All  Cause                                          14094.0  1958.513197   \n",
       "Natural Cause                                       14094.0  1794.083156   \n",
       "Septicemia (A40-A41)                                 7947.0    48.090726   \n",
       "Malignant neoplasms (C00-C97)                       14084.0   425.051122   \n",
       "Diabetes mellitus (E10-E14)                         10548.0    76.507300   \n",
       "Alzheimer disease (G30)                             11272.0    99.396380   \n",
       "Influenza and pneumonia (J10-J18)                    9088.0    59.098702   \n",
       "Chronic lower respiratory diseases (J40-J47)        12194.0   126.678940   \n",
       "Other diseases of respiratory system (J00-J06,J...   7946.0    46.929650   \n",
       "Nephritis, nephrotic syndrome and nephrosis (N0...   8607.0    55.620890   \n",
       "Symptoms, signs and abnormal clinical and labor...   7208.0    40.378052   \n",
       "Diseases of heart (I00-I09,I11,I13,I20-I51)         14077.0   454.524473   \n",
       "Cerebrovascular diseases (I60-I69)                  11950.0   118.217071   \n",
       "flag_allcause                                           0.0          NaN   \n",
       "flag_natcause                                           0.0          NaN   \n",
       "\n",
       "                                                            std     min  \\\n",
       "MMWR Year                                              1.416950  2014.0   \n",
       "MMWR Week                                             15.069286     1.0   \n",
       "All  Cause                                          7045.593511    50.0   \n",
       "Natural Cause                                       6456.339032    43.0   \n",
       "Septicemia (A40-A41)                                 135.598314     0.0   \n",
       "Malignant neoplasms (C00-C97)                       1527.189508    10.0   \n",
       "Diabetes mellitus (E10-E14)                          237.803654     0.0   \n",
       "Alzheimer disease (G30)                              324.017824     0.0   \n",
       "Influenza and pneumonia (J10-J18)                    189.145124     0.0   \n",
       "Chronic lower respiratory diseases (J40-J47)         428.392662     0.0   \n",
       "Other diseases of respiratory system (J00-J06,J...   133.758358     0.0   \n",
       "Nephritis, nephrotic syndrome and nephrosis (N0...   161.312268     0.0   \n",
       "Symptoms, signs and abnormal clinical and labor...   111.712377     0.0   \n",
       "Diseases of heart (I00-I09,I11,I13,I20-I51)         1638.454125    10.0   \n",
       "Cerebrovascular diseases (I60-I69)                   394.154024     0.0   \n",
       "flag_allcause                                               NaN     NaN   \n",
       "flag_natcause                                               NaN     NaN   \n",
       "\n",
       "                                                       25%     50%      75%  \\\n",
       "MMWR Year                                           2015.0  2016.0  2017.00   \n",
       "MMWR Week                                             14.0    27.0    40.00   \n",
       "All  Cause                                           309.0   780.0  1287.00   \n",
       "Natural Cause                                        276.0   709.0  1182.75   \n",
       "Septicemia (A40-A41)                                  13.0    20.0    32.00   \n",
       "Malignant neoplasms (C00-C97)                         63.0   165.0   278.00   \n",
       "Diabetes mellitus (E10-E14)                           20.0    30.0    48.00   \n",
       "Alzheimer disease (G30)                               22.0    38.0    62.00   \n",
       "Influenza and pneumonia (J10-J18)                     14.0    22.0    39.00   \n",
       "Chronic lower respiratory diseases (J40-J47)          28.0    49.0    85.00   \n",
       "Other diseases of respiratory system (J00-J06,J...    13.0    19.0    31.00   \n",
       "Nephritis, nephrotic syndrome and nephrosis (N0...    14.0    23.0    38.00   \n",
       "Symptoms, signs and abnormal clinical and labor...    11.0    16.0    25.00   \n",
       "Diseases of heart (I00-I09,I11,I13,I20-I51)           64.0   171.0   307.00   \n",
       "Cerebrovascular diseases (I60-I69)                    24.0    44.0    74.00   \n",
       "flag_allcause                                          NaN     NaN      NaN   \n",
       "flag_natcause                                          NaN     NaN      NaN   \n",
       "\n",
       "                                                        max  \n",
       "MMWR Year                                            2018.0  \n",
       "MMWR Week                                              53.0  \n",
       "All  Cause                                          67664.0  \n",
       "Natural Cause                                       62704.0  \n",
       "Septicemia (A40-A41)                                 1067.0  \n",
       "Malignant neoplasms (C00-C97)                       12433.0  \n",
       "Diabetes mellitus (E10-E14)                          2113.0  \n",
       "Alzheimer disease (G30)                              3212.0  \n",
       "Influenza and pneumonia (J10-J18)                    2939.0  \n",
       "Chronic lower respiratory diseases (J40-J47)         4382.0  \n",
       "Other diseases of respiratory system (J00-J06,J...   1088.0  \n",
       "Nephritis, nephrotic syndrome and nephrosis (N0...   1240.0  \n",
       "Symptoms, signs and abnormal clinical and labor...    776.0  \n",
       "Diseases of heart (I00-I09,I11,I13,I20-I51)         16074.0  \n",
       "Cerebrovascular diseases (I60-I69)                   3372.0  \n",
       "flag_allcause                                           NaN  \n",
       "flag_natcause                                           NaN  "
      ]
     },
     "execution_count": 3,
     "metadata": {},
     "output_type": "execute_result"
    }
   ],
   "source": [
    "print('df shape: ', df.shape)\n",
    "df.describe().T"
   ]
  },
  {
   "cell_type": "code",
   "execution_count": 4,
   "metadata": {},
   "outputs": [
    {
     "data": {
      "text/plain": [
       "Index(['Jurisdiction of Occurrence', 'MMWR Year', 'MMWR Week',\n",
       "       'Week Ending Date', 'All  Cause', 'Natural Cause',\n",
       "       'Septicemia (A40-A41)', 'Malignant neoplasms (C00-C97)',\n",
       "       'Diabetes mellitus (E10-E14)', 'Alzheimer disease (G30)',\n",
       "       'Influenza and pneumonia (J10-J18)',\n",
       "       'Chronic lower respiratory diseases (J40-J47)',\n",
       "       'Other diseases of respiratory system (J00-J06,J30-J39,J67,J70-J98)',\n",
       "       'Nephritis, nephrotic syndrome and nephrosis (N00-N07,N17-N19,N25-N27)',\n",
       "       'Symptoms, signs and abnormal clinical and laboratory findings, not elsewhere classified (R00-R99)',\n",
       "       'Diseases of heart (I00-I09,I11,I13,I20-I51)',\n",
       "       'Cerebrovascular diseases (I60-I69)', 'flag_allcause', 'flag_natcause',\n",
       "       'flag_sept', 'flag_neopl', 'flag_diab', 'flag_alz', 'flag_inflpn',\n",
       "       'flag_clrd', 'flag_otherresp', 'flag_nephr', 'flag_otherunk', 'flag_hd',\n",
       "       'flag_stroke'],\n",
       "      dtype='object')"
      ]
     },
     "execution_count": 4,
     "metadata": {},
     "output_type": "execute_result"
    }
   ],
   "source": [
    "df.columns"
   ]
  },
  {
   "cell_type": "code",
   "execution_count": 5,
   "metadata": {},
   "outputs": [],
   "source": [
    "#Rename Columns \n",
    "df.columns = ['State', 'Year', 'Week',\n",
    "       'WeekEndDate', 'All_Cause', 'Nat_Cause',\n",
    "       'Septicemia', 'Cancer',\n",
    "       'Diabetes', 'Alzheimer',\n",
    "       'InflPn',\n",
    "       'COPD',\n",
    "       'Respiratory',\n",
    "       'Kidney',\n",
    "       'Other',\n",
    "       'Heart',\n",
    "       'Stroke', 'flag_allcause', 'flag_natcause',\n",
    "       'flag_sept', 'flag_cancer', 'flag_diab', 'flag_alz', 'flag_inflpn',\n",
    "       'flag_clrd', 'flag_respiratory', 'flag_kidney', 'flag_other', 'flag_heart',\n",
    "       'flag_stroke']"
   ]
  },
  {
   "cell_type": "code",
   "execution_count": 6,
   "metadata": {},
   "outputs": [
    {
     "data": {
      "text/html": [
       "<div>\n",
       "<style scoped>\n",
       "    .dataframe tbody tr th:only-of-type {\n",
       "        vertical-align: middle;\n",
       "    }\n",
       "\n",
       "    .dataframe tbody tr th {\n",
       "        vertical-align: top;\n",
       "    }\n",
       "\n",
       "    .dataframe thead th {\n",
       "        text-align: right;\n",
       "    }\n",
       "</style>\n",
       "<table border=\"1\" class=\"dataframe\">\n",
       "  <thead>\n",
       "    <tr style=\"text-align: right;\">\n",
       "      <th></th>\n",
       "      <th>State</th>\n",
       "      <th>Year</th>\n",
       "      <th>Week</th>\n",
       "      <th>WeekEndDate</th>\n",
       "      <th>All_Cause</th>\n",
       "      <th>Nat_Cause</th>\n",
       "      <th>Septicemia</th>\n",
       "      <th>Cancer</th>\n",
       "      <th>Diabetes</th>\n",
       "      <th>Alzheimer</th>\n",
       "      <th>...</th>\n",
       "      <th>flag_cancer</th>\n",
       "      <th>flag_diab</th>\n",
       "      <th>flag_alz</th>\n",
       "      <th>flag_inflpn</th>\n",
       "      <th>flag_clrd</th>\n",
       "      <th>flag_respiratory</th>\n",
       "      <th>flag_kidney</th>\n",
       "      <th>flag_other</th>\n",
       "      <th>flag_heart</th>\n",
       "      <th>flag_stroke</th>\n",
       "    </tr>\n",
       "  </thead>\n",
       "  <tbody>\n",
       "    <tr>\n",
       "      <th>0</th>\n",
       "      <td>Alabama</td>\n",
       "      <td>2014</td>\n",
       "      <td>1</td>\n",
       "      <td>01/04/2014</td>\n",
       "      <td>355</td>\n",
       "      <td>327</td>\n",
       "      <td>NaN</td>\n",
       "      <td>60.0</td>\n",
       "      <td>NaN</td>\n",
       "      <td>10.0</td>\n",
       "      <td>...</td>\n",
       "      <td>NaN</td>\n",
       "      <td>Suppressed (counts 1-9)</td>\n",
       "      <td>NaN</td>\n",
       "      <td>Suppressed (counts 1-9)</td>\n",
       "      <td>NaN</td>\n",
       "      <td>Suppressed (counts 1-9)</td>\n",
       "      <td>Suppressed (counts 1-9)</td>\n",
       "      <td>NaN</td>\n",
       "      <td>NaN</td>\n",
       "      <td>NaN</td>\n",
       "    </tr>\n",
       "    <tr>\n",
       "      <th>1</th>\n",
       "      <td>Alabama</td>\n",
       "      <td>2014</td>\n",
       "      <td>2</td>\n",
       "      <td>01/11/2014</td>\n",
       "      <td>872</td>\n",
       "      <td>792</td>\n",
       "      <td>23.0</td>\n",
       "      <td>163.0</td>\n",
       "      <td>23.0</td>\n",
       "      <td>35.0</td>\n",
       "      <td>...</td>\n",
       "      <td>NaN</td>\n",
       "      <td>NaN</td>\n",
       "      <td>NaN</td>\n",
       "      <td>NaN</td>\n",
       "      <td>NaN</td>\n",
       "      <td>NaN</td>\n",
       "      <td>NaN</td>\n",
       "      <td>NaN</td>\n",
       "      <td>NaN</td>\n",
       "      <td>NaN</td>\n",
       "    </tr>\n",
       "    <tr>\n",
       "      <th>2</th>\n",
       "      <td>Alabama</td>\n",
       "      <td>2014</td>\n",
       "      <td>3</td>\n",
       "      <td>01/18/2014</td>\n",
       "      <td>1044</td>\n",
       "      <td>971</td>\n",
       "      <td>21.0</td>\n",
       "      <td>209.0</td>\n",
       "      <td>34.0</td>\n",
       "      <td>31.0</td>\n",
       "      <td>...</td>\n",
       "      <td>NaN</td>\n",
       "      <td>NaN</td>\n",
       "      <td>NaN</td>\n",
       "      <td>NaN</td>\n",
       "      <td>NaN</td>\n",
       "      <td>NaN</td>\n",
       "      <td>NaN</td>\n",
       "      <td>NaN</td>\n",
       "      <td>NaN</td>\n",
       "      <td>NaN</td>\n",
       "    </tr>\n",
       "    <tr>\n",
       "      <th>3</th>\n",
       "      <td>Alabama</td>\n",
       "      <td>2014</td>\n",
       "      <td>4</td>\n",
       "      <td>01/25/2014</td>\n",
       "      <td>1022</td>\n",
       "      <td>967</td>\n",
       "      <td>25.0</td>\n",
       "      <td>205.0</td>\n",
       "      <td>23.0</td>\n",
       "      <td>25.0</td>\n",
       "      <td>...</td>\n",
       "      <td>NaN</td>\n",
       "      <td>NaN</td>\n",
       "      <td>NaN</td>\n",
       "      <td>NaN</td>\n",
       "      <td>NaN</td>\n",
       "      <td>NaN</td>\n",
       "      <td>NaN</td>\n",
       "      <td>NaN</td>\n",
       "      <td>NaN</td>\n",
       "      <td>NaN</td>\n",
       "    </tr>\n",
       "    <tr>\n",
       "      <th>4</th>\n",
       "      <td>Alabama</td>\n",
       "      <td>2014</td>\n",
       "      <td>5</td>\n",
       "      <td>02/01/2014</td>\n",
       "      <td>1040</td>\n",
       "      <td>953</td>\n",
       "      <td>18.0</td>\n",
       "      <td>200.0</td>\n",
       "      <td>26.0</td>\n",
       "      <td>38.0</td>\n",
       "      <td>...</td>\n",
       "      <td>NaN</td>\n",
       "      <td>NaN</td>\n",
       "      <td>NaN</td>\n",
       "      <td>NaN</td>\n",
       "      <td>NaN</td>\n",
       "      <td>NaN</td>\n",
       "      <td>NaN</td>\n",
       "      <td>NaN</td>\n",
       "      <td>NaN</td>\n",
       "      <td>NaN</td>\n",
       "    </tr>\n",
       "  </tbody>\n",
       "</table>\n",
       "<p>5 rows × 30 columns</p>\n",
       "</div>"
      ],
      "text/plain": [
       "     State  Year  Week WeekEndDate  All_Cause  Nat_Cause  Septicemia  Cancer  \\\n",
       "0  Alabama  2014     1  01/04/2014        355        327         NaN    60.0   \n",
       "1  Alabama  2014     2  01/11/2014        872        792        23.0   163.0   \n",
       "2  Alabama  2014     3  01/18/2014       1044        971        21.0   209.0   \n",
       "3  Alabama  2014     4  01/25/2014       1022        967        25.0   205.0   \n",
       "4  Alabama  2014     5  02/01/2014       1040        953        18.0   200.0   \n",
       "\n",
       "   Diabetes  Alzheimer  ...  flag_cancer                flag_diab  flag_alz  \\\n",
       "0       NaN       10.0  ...          NaN  Suppressed (counts 1-9)       NaN   \n",
       "1      23.0       35.0  ...          NaN                      NaN       NaN   \n",
       "2      34.0       31.0  ...          NaN                      NaN       NaN   \n",
       "3      23.0       25.0  ...          NaN                      NaN       NaN   \n",
       "4      26.0       38.0  ...          NaN                      NaN       NaN   \n",
       "\n",
       "               flag_inflpn  flag_clrd         flag_respiratory  \\\n",
       "0  Suppressed (counts 1-9)        NaN  Suppressed (counts 1-9)   \n",
       "1                      NaN        NaN                      NaN   \n",
       "2                      NaN        NaN                      NaN   \n",
       "3                      NaN        NaN                      NaN   \n",
       "4                      NaN        NaN                      NaN   \n",
       "\n",
       "               flag_kidney  flag_other  flag_heart flag_stroke  \n",
       "0  Suppressed (counts 1-9)         NaN         NaN         NaN  \n",
       "1                      NaN         NaN         NaN         NaN  \n",
       "2                      NaN         NaN         NaN         NaN  \n",
       "3                      NaN         NaN         NaN         NaN  \n",
       "4                      NaN         NaN         NaN         NaN  \n",
       "\n",
       "[5 rows x 30 columns]"
      ]
     },
     "execution_count": 6,
     "metadata": {},
     "output_type": "execute_result"
    }
   ],
   "source": [
    "df.columns\n",
    "df.head()"
   ]
  },
  {
   "cell_type": "code",
   "execution_count": 7,
   "metadata": {},
   "outputs": [
    {
     "data": {
      "text/plain": [
       "array(['Alabama', 'Alaska', 'Arizona', 'Arkansas', 'California',\n",
       "       'Colorado', 'Connecticut', 'Delaware', 'District of Columbia',\n",
       "       'Florida', 'Georgia', 'Hawaii', 'Idaho', 'Illinois', 'Indiana',\n",
       "       'Iowa', 'Kansas', 'Kentucky', 'Louisiana', 'Maine', 'Maryland',\n",
       "       'Massachusetts', 'Michigan', 'Minnesota', 'Mississippi',\n",
       "       'Missouri', 'Montana', 'Nebraska', 'Nevada', 'New Hampshire',\n",
       "       'New Jersey', 'New Mexico', 'New York', 'New York City',\n",
       "       'North Carolina', 'North Dakota', 'Ohio', 'Oklahoma', 'Oregon',\n",
       "       'Pennsylvania', 'Puerto Rico', 'Rhode Island', 'South Carolina',\n",
       "       'South Dakota', 'Tennessee', 'Texas', 'Utah', 'Vermont',\n",
       "       'Virginia', 'Washington', 'West Virginia', 'Wisconsin', 'Wyoming'],\n",
       "      dtype=object)"
      ]
     },
     "execution_count": 7,
     "metadata": {},
     "output_type": "execute_result"
    }
   ],
   "source": [
    "#Remove United States from the list of states\n",
    "df=df[~(df['State']=='United States')]\n",
    "df['State'].unique()"
   ]
  },
  {
   "cell_type": "code",
   "execution_count": 8,
   "metadata": {},
   "outputs": [
    {
     "data": {
      "text/plain": [
       "StringDtype"
      ]
     },
     "execution_count": 8,
     "metadata": {},
     "output_type": "execute_result"
    }
   ],
   "source": [
    "#df['State'].astype('str').dtypes\n",
    "df['State']=df['State'].convert_dtypes()\n",
    "df['State'].dtype\n"
   ]
  },
  {
   "cell_type": "code",
   "execution_count": 9,
   "metadata": {},
   "outputs": [
    {
     "data": {
      "text/plain": [
       "dtype('<M8[ns]')"
      ]
     },
     "execution_count": 9,
     "metadata": {},
     "output_type": "execute_result"
    }
   ],
   "source": [
    "df['WeekEndDate']=pd.to_datetime(df['WeekEndDate'])\n",
    "df['WeekEndDate'].dtypes"
   ]
  },
  {
   "cell_type": "code",
   "execution_count": 10,
   "metadata": {},
   "outputs": [
    {
     "data": {
      "text/html": [
       "<div>\n",
       "<style scoped>\n",
       "    .dataframe tbody tr th:only-of-type {\n",
       "        vertical-align: middle;\n",
       "    }\n",
       "\n",
       "    .dataframe tbody tr th {\n",
       "        vertical-align: top;\n",
       "    }\n",
       "\n",
       "    .dataframe thead th {\n",
       "        text-align: right;\n",
       "    }\n",
       "</style>\n",
       "<table border=\"1\" class=\"dataframe\">\n",
       "  <thead>\n",
       "    <tr style=\"text-align: right;\">\n",
       "      <th></th>\n",
       "      <th>State</th>\n",
       "      <th>Year</th>\n",
       "      <th>Week</th>\n",
       "      <th>WeekEndDate</th>\n",
       "      <th>All_Cause</th>\n",
       "      <th>Nat_Cause</th>\n",
       "      <th>Septicemia</th>\n",
       "      <th>Cancer</th>\n",
       "      <th>Diabetes</th>\n",
       "      <th>Alzheimer</th>\n",
       "      <th>...</th>\n",
       "      <th>flag_cancer</th>\n",
       "      <th>flag_diab</th>\n",
       "      <th>flag_alz</th>\n",
       "      <th>flag_inflpn</th>\n",
       "      <th>flag_clrd</th>\n",
       "      <th>flag_respiratory</th>\n",
       "      <th>flag_kidney</th>\n",
       "      <th>flag_other</th>\n",
       "      <th>flag_heart</th>\n",
       "      <th>flag_stroke</th>\n",
       "    </tr>\n",
       "  </thead>\n",
       "  <tbody>\n",
       "    <tr>\n",
       "      <th>0</th>\n",
       "      <td>Alabama</td>\n",
       "      <td>2014</td>\n",
       "      <td>1</td>\n",
       "      <td>2014-01-04</td>\n",
       "      <td>355</td>\n",
       "      <td>327</td>\n",
       "      <td>NaN</td>\n",
       "      <td>60.0</td>\n",
       "      <td>NaN</td>\n",
       "      <td>10.0</td>\n",
       "      <td>...</td>\n",
       "      <td>NaN</td>\n",
       "      <td>Suppressed (counts 1-9)</td>\n",
       "      <td>NaN</td>\n",
       "      <td>Suppressed (counts 1-9)</td>\n",
       "      <td>NaN</td>\n",
       "      <td>Suppressed (counts 1-9)</td>\n",
       "      <td>Suppressed (counts 1-9)</td>\n",
       "      <td>NaN</td>\n",
       "      <td>NaN</td>\n",
       "      <td>NaN</td>\n",
       "    </tr>\n",
       "    <tr>\n",
       "      <th>1</th>\n",
       "      <td>Alabama</td>\n",
       "      <td>2014</td>\n",
       "      <td>2</td>\n",
       "      <td>2014-01-11</td>\n",
       "      <td>872</td>\n",
       "      <td>792</td>\n",
       "      <td>23.0</td>\n",
       "      <td>163.0</td>\n",
       "      <td>23.0</td>\n",
       "      <td>35.0</td>\n",
       "      <td>...</td>\n",
       "      <td>NaN</td>\n",
       "      <td>NaN</td>\n",
       "      <td>NaN</td>\n",
       "      <td>NaN</td>\n",
       "      <td>NaN</td>\n",
       "      <td>NaN</td>\n",
       "      <td>NaN</td>\n",
       "      <td>NaN</td>\n",
       "      <td>NaN</td>\n",
       "      <td>NaN</td>\n",
       "    </tr>\n",
       "    <tr>\n",
       "      <th>2</th>\n",
       "      <td>Alabama</td>\n",
       "      <td>2014</td>\n",
       "      <td>3</td>\n",
       "      <td>2014-01-18</td>\n",
       "      <td>1044</td>\n",
       "      <td>971</td>\n",
       "      <td>21.0</td>\n",
       "      <td>209.0</td>\n",
       "      <td>34.0</td>\n",
       "      <td>31.0</td>\n",
       "      <td>...</td>\n",
       "      <td>NaN</td>\n",
       "      <td>NaN</td>\n",
       "      <td>NaN</td>\n",
       "      <td>NaN</td>\n",
       "      <td>NaN</td>\n",
       "      <td>NaN</td>\n",
       "      <td>NaN</td>\n",
       "      <td>NaN</td>\n",
       "      <td>NaN</td>\n",
       "      <td>NaN</td>\n",
       "    </tr>\n",
       "    <tr>\n",
       "      <th>3</th>\n",
       "      <td>Alabama</td>\n",
       "      <td>2014</td>\n",
       "      <td>4</td>\n",
       "      <td>2014-01-25</td>\n",
       "      <td>1022</td>\n",
       "      <td>967</td>\n",
       "      <td>25.0</td>\n",
       "      <td>205.0</td>\n",
       "      <td>23.0</td>\n",
       "      <td>25.0</td>\n",
       "      <td>...</td>\n",
       "      <td>NaN</td>\n",
       "      <td>NaN</td>\n",
       "      <td>NaN</td>\n",
       "      <td>NaN</td>\n",
       "      <td>NaN</td>\n",
       "      <td>NaN</td>\n",
       "      <td>NaN</td>\n",
       "      <td>NaN</td>\n",
       "      <td>NaN</td>\n",
       "      <td>NaN</td>\n",
       "    </tr>\n",
       "    <tr>\n",
       "      <th>4</th>\n",
       "      <td>Alabama</td>\n",
       "      <td>2014</td>\n",
       "      <td>5</td>\n",
       "      <td>2014-02-01</td>\n",
       "      <td>1040</td>\n",
       "      <td>953</td>\n",
       "      <td>18.0</td>\n",
       "      <td>200.0</td>\n",
       "      <td>26.0</td>\n",
       "      <td>38.0</td>\n",
       "      <td>...</td>\n",
       "      <td>NaN</td>\n",
       "      <td>NaN</td>\n",
       "      <td>NaN</td>\n",
       "      <td>NaN</td>\n",
       "      <td>NaN</td>\n",
       "      <td>NaN</td>\n",
       "      <td>NaN</td>\n",
       "      <td>NaN</td>\n",
       "      <td>NaN</td>\n",
       "      <td>NaN</td>\n",
       "    </tr>\n",
       "  </tbody>\n",
       "</table>\n",
       "<p>5 rows × 30 columns</p>\n",
       "</div>"
      ],
      "text/plain": [
       "     State  Year  Week WeekEndDate  All_Cause  Nat_Cause  Septicemia  Cancer  \\\n",
       "0  Alabama  2014     1  2014-01-04        355        327         NaN    60.0   \n",
       "1  Alabama  2014     2  2014-01-11        872        792        23.0   163.0   \n",
       "2  Alabama  2014     3  2014-01-18       1044        971        21.0   209.0   \n",
       "3  Alabama  2014     4  2014-01-25       1022        967        25.0   205.0   \n",
       "4  Alabama  2014     5  2014-02-01       1040        953        18.0   200.0   \n",
       "\n",
       "   Diabetes  Alzheimer  ...  flag_cancer                flag_diab  flag_alz  \\\n",
       "0       NaN       10.0  ...          NaN  Suppressed (counts 1-9)       NaN   \n",
       "1      23.0       35.0  ...          NaN                      NaN       NaN   \n",
       "2      34.0       31.0  ...          NaN                      NaN       NaN   \n",
       "3      23.0       25.0  ...          NaN                      NaN       NaN   \n",
       "4      26.0       38.0  ...          NaN                      NaN       NaN   \n",
       "\n",
       "               flag_inflpn  flag_clrd         flag_respiratory  \\\n",
       "0  Suppressed (counts 1-9)        NaN  Suppressed (counts 1-9)   \n",
       "1                      NaN        NaN                      NaN   \n",
       "2                      NaN        NaN                      NaN   \n",
       "3                      NaN        NaN                      NaN   \n",
       "4                      NaN        NaN                      NaN   \n",
       "\n",
       "               flag_kidney  flag_other  flag_heart flag_stroke  \n",
       "0  Suppressed (counts 1-9)         NaN         NaN         NaN  \n",
       "1                      NaN         NaN         NaN         NaN  \n",
       "2                      NaN         NaN         NaN         NaN  \n",
       "3                      NaN         NaN         NaN         NaN  \n",
       "4                      NaN         NaN         NaN         NaN  \n",
       "\n",
       "[5 rows x 30 columns]"
      ]
     },
     "execution_count": 10,
     "metadata": {},
     "output_type": "execute_result"
    }
   ],
   "source": [
    "df.head()"
   ]
  },
  {
   "cell_type": "code",
   "execution_count": 11,
   "metadata": {},
   "outputs": [
    {
     "data": {
      "text/plain": [
       "State                       string\n",
       "Year                         int64\n",
       "Week                         int64\n",
       "WeekEndDate         datetime64[ns]\n",
       "All_Cause                    int64\n",
       "Nat_Cause                    int64\n",
       "Septicemia                 float64\n",
       "Cancer                     float64\n",
       "Diabetes                   float64\n",
       "Alzheimer                  float64\n",
       "InflPn                     float64\n",
       "COPD                       float64\n",
       "Respiratory                float64\n",
       "Kidney                     float64\n",
       "Other                      float64\n",
       "Heart                      float64\n",
       "Stroke                     float64\n",
       "flag_allcause              float64\n",
       "flag_natcause              float64\n",
       "flag_sept                   object\n",
       "flag_cancer                 object\n",
       "flag_diab                   object\n",
       "flag_alz                    object\n",
       "flag_inflpn                 object\n",
       "flag_clrd                   object\n",
       "flag_respiratory            object\n",
       "flag_kidney                 object\n",
       "flag_other                  object\n",
       "flag_heart                  object\n",
       "flag_stroke                 object\n",
       "dtype: object"
      ]
     },
     "execution_count": 11,
     "metadata": {},
     "output_type": "execute_result"
    }
   ],
   "source": [
    "df.convert_dtypes()\n",
    "df.dtypes"
   ]
  },
  {
   "cell_type": "code",
   "execution_count": 12,
   "metadata": {},
   "outputs": [
    {
     "data": {
      "text/plain": [
       "array([nan])"
      ]
     },
     "execution_count": 12,
     "metadata": {},
     "output_type": "execute_result"
    }
   ],
   "source": [
    "df['flag_allcause'].unique()"
   ]
  },
  {
   "cell_type": "code",
   "execution_count": 13,
   "metadata": {},
   "outputs": [
    {
     "data": {
      "text/plain": [
       "0"
      ]
     },
     "execution_count": 13,
     "metadata": {},
     "output_type": "execute_result"
    }
   ],
   "source": [
    "df['All_Cause'].isnull().sum()"
   ]
  },
  {
   "cell_type": "code",
   "execution_count": 14,
   "metadata": {},
   "outputs": [],
   "source": [
    "df.drop(['flag_allcause'],axis=1, inplace=True)"
   ]
  },
  {
   "cell_type": "code",
   "execution_count": 15,
   "metadata": {},
   "outputs": [
    {
     "data": {
      "text/plain": [
       "0"
      ]
     },
     "execution_count": 15,
     "metadata": {},
     "output_type": "execute_result"
    }
   ],
   "source": [
    "df['Nat_Cause'].isnull().sum()"
   ]
  },
  {
   "cell_type": "code",
   "execution_count": 16,
   "metadata": {},
   "outputs": [
    {
     "data": {
      "text/plain": [
       "array([nan])"
      ]
     },
     "execution_count": 16,
     "metadata": {},
     "output_type": "execute_result"
    }
   ],
   "source": [
    "df['flag_natcause'].unique()"
   ]
  },
  {
   "cell_type": "code",
   "execution_count": 17,
   "metadata": {},
   "outputs": [],
   "source": [
    "df.drop(['flag_natcause'],axis=1, inplace=True)"
   ]
  },
  {
   "cell_type": "code",
   "execution_count": 18,
   "metadata": {},
   "outputs": [
    {
     "data": {
      "text/plain": [
       "6147"
      ]
     },
     "execution_count": 18,
     "metadata": {},
     "output_type": "execute_result"
    }
   ],
   "source": [
    "df['Septicemia'].isnull().sum()"
   ]
  },
  {
   "cell_type": "code",
   "execution_count": 19,
   "metadata": {},
   "outputs": [
    {
     "data": {
      "text/plain": [
       "6147"
      ]
     },
     "execution_count": 19,
     "metadata": {},
     "output_type": "execute_result"
    }
   ],
   "source": [
    "df['flag_sept'][df['flag_sept']=='Suppressed (counts 1-9)'].count()"
   ]
  },
  {
   "cell_type": "code",
   "execution_count": 20,
   "metadata": {},
   "outputs": [
    {
     "data": {
      "text/plain": [
       "0"
      ]
     },
     "execution_count": 20,
     "metadata": {},
     "output_type": "execute_result"
    }
   ],
   "source": [
    "df['Septicemia'].fillna(5,inplace=True)\n",
    "df['Septicemia'].isnull().sum()"
   ]
  },
  {
   "cell_type": "code",
   "execution_count": 21,
   "metadata": {},
   "outputs": [],
   "source": [
    "df['Cancer'].fillna(5,inplace=True)"
   ]
  },
  {
   "cell_type": "code",
   "execution_count": 22,
   "metadata": {},
   "outputs": [],
   "source": [
    "df.drop(['flag_sept','flag_cancer','flag_diab','flag_alz','flag_inflpn','flag_clrd','flag_respiratory','flag_kidney','flag_other','flag_heart','flag_stroke'],axis=1, inplace=True)"
   ]
  },
  {
   "cell_type": "code",
   "execution_count": 23,
   "metadata": {},
   "outputs": [
    {
     "data": {
      "text/plain": [
       "State          0\n",
       "Year           0\n",
       "Week           0\n",
       "WeekEndDate    0\n",
       "All_Cause      0\n",
       "Nat_Cause      0\n",
       "Septicemia     0\n",
       "Cancer         0\n",
       "Diabetes       0\n",
       "Alzheimer      0\n",
       "InflPn         0\n",
       "COPD           0\n",
       "Respiratory    0\n",
       "Kidney         0\n",
       "Other          0\n",
       "Heart          0\n",
       "Stroke         0\n",
       "dtype: int64"
      ]
     },
     "execution_count": 23,
     "metadata": {},
     "output_type": "execute_result"
    }
   ],
   "source": [
    "df['Diabetes'].fillna(5,inplace=True)\n",
    "df['Alzheimer'].fillna(5,inplace=True)\n",
    "df['InflPn'].fillna(5,inplace=True)\n",
    "df['COPD'].fillna(5,inplace=True)\n",
    "df['Respiratory'].fillna(5,inplace=True)\n",
    "df['Kidney'].fillna(5,inplace=True)\n",
    "df['Other'].fillna(5,inplace=True)\n",
    "df['Heart'].fillna(5,inplace=True)\n",
    "df['Stroke'].fillna(5,inplace=True)\n",
    "\n",
    "df.isnull().sum()"
   ]
  },
  {
   "cell_type": "code",
   "execution_count": 24,
   "metadata": {},
   "outputs": [
    {
     "data": {
      "text/plain": [
       "State                  string\n",
       "Year                    int64\n",
       "Week                    int64\n",
       "WeekEndDate    datetime64[ns]\n",
       "All_Cause               int64\n",
       "Nat_Cause               int64\n",
       "Septicemia            float64\n",
       "Cancer                float64\n",
       "Diabetes              float64\n",
       "Alzheimer             float64\n",
       "InflPn                float64\n",
       "COPD                  float64\n",
       "Respiratory           float64\n",
       "Kidney                float64\n",
       "Other                 float64\n",
       "Heart                 float64\n",
       "Stroke                float64\n",
       "dtype: object"
      ]
     },
     "execution_count": 24,
     "metadata": {},
     "output_type": "execute_result"
    }
   ],
   "source": [
    "df.dtypes"
   ]
  },
  {
   "cell_type": "code",
   "execution_count": 25,
   "metadata": {},
   "outputs": [],
   "source": [
    "df['Month']=df['WeekEndDate'].dt.month"
   ]
  },
  {
   "cell_type": "code",
   "execution_count": 26,
   "metadata": {},
   "outputs": [],
   "source": [
    "# years, week to use them to predict the rate\n",
    "# add month of the year, or quarter or season\n",
    "#Adding Quarter\n",
    "df['Quarter']=df['WeekEndDate'].dt.quarter"
   ]
  },
  {
   "cell_type": "code",
   "execution_count": 34,
   "metadata": {},
   "outputs": [],
   "source": [
    "#Create dummy variables for state. Add the dummies back to the dataframe and remove the original column for state.\n",
    "df = pd.concat([df.drop(['State'], axis=1), pd.get_dummies(df['State'])], axis=1)"
   ]
  },
  {
   "cell_type": "code",
   "execution_count": 36,
   "metadata": {},
   "outputs": [
    {
     "data": {
      "text/plain": [
       "Index(['Year', 'Week', 'WeekEndDate', 'All_Cause', 'Nat_Cause', 'Septicemia',\n",
       "       'Cancer', 'Diabetes', 'Alzheimer', 'InflPn', 'COPD', 'Respiratory',\n",
       "       'Kidney', 'Other', 'Heart', 'Stroke', 'Month', 'Quarter', 'Alabama',\n",
       "       'Alaska', 'Arizona', 'Arkansas', 'California', 'Colorado',\n",
       "       'Connecticut', 'Delaware', 'District of Columbia', 'Florida', 'Georgia',\n",
       "       'Hawaii', 'Idaho', 'Illinois', 'Indiana', 'Iowa', 'Kansas', 'Kentucky',\n",
       "       'Louisiana', 'Maine', 'Maryland', 'Massachusetts', 'Michigan',\n",
       "       'Minnesota', 'Mississippi', 'Missouri', 'Montana', 'Nebraska', 'Nevada',\n",
       "       'New Hampshire', 'New Jersey', 'New Mexico', 'New York',\n",
       "       'New York City', 'North Carolina', 'North Dakota', 'Ohio', 'Oklahoma',\n",
       "       'Oregon', 'Pennsylvania', 'Puerto Rico', 'Rhode Island',\n",
       "       'South Carolina', 'South Dakota', 'Tennessee', 'Texas', 'Utah',\n",
       "       'Vermont', 'Virginia', 'Washington', 'West Virginia', 'Wisconsin',\n",
       "       'Wyoming'],\n",
       "      dtype='object')"
      ]
     },
     "execution_count": 36,
     "metadata": {},
     "output_type": "execute_result"
    }
   ],
   "source": [
    "df.columns"
   ]
  },
  {
   "cell_type": "code",
   "execution_count": 28,
   "metadata": {},
   "outputs": [],
   "source": [
    "from sklearn.linear_model import LinearRegression"
   ]
  },
  {
   "cell_type": "code",
   "execution_count": 29,
   "metadata": {},
   "outputs": [
    {
     "data": {
      "text/plain": [
       "0.03808642143702545"
      ]
     },
     "execution_count": 29,
     "metadata": {},
     "output_type": "execute_result"
    }
   ],
   "source": [
    "model = LinearRegression()\n",
    "X = df[['Month', 'Week','Year']]\n",
    "y = df[['InflPn']]\n",
    "model.fit(X,y)\n",
    "model.score(X,y)"
   ]
  },
  {
   "cell_type": "code",
   "execution_count": 30,
   "metadata": {},
   "outputs": [
    {
     "data": {
      "text/html": [
       "<div>\n",
       "<style scoped>\n",
       "    .dataframe tbody tr th:only-of-type {\n",
       "        vertical-align: middle;\n",
       "    }\n",
       "\n",
       "    .dataframe tbody tr th {\n",
       "        vertical-align: top;\n",
       "    }\n",
       "\n",
       "    .dataframe thead th {\n",
       "        text-align: right;\n",
       "    }\n",
       "</style>\n",
       "<table border=\"1\" class=\"dataframe\">\n",
       "  <thead>\n",
       "    <tr style=\"text-align: right;\">\n",
       "      <th></th>\n",
       "      <th>InflPn</th>\n",
       "    </tr>\n",
       "  </thead>\n",
       "  <tbody>\n",
       "    <tr>\n",
       "      <th>count</th>\n",
       "      <td>13833.000000</td>\n",
       "    </tr>\n",
       "    <tr>\n",
       "      <th>mean</th>\n",
       "      <td>20.511241</td>\n",
       "    </tr>\n",
       "    <tr>\n",
       "      <th>std</th>\n",
       "      <td>24.312357</td>\n",
       "    </tr>\n",
       "    <tr>\n",
       "      <th>min</th>\n",
       "      <td>0.000000</td>\n",
       "    </tr>\n",
       "    <tr>\n",
       "      <th>25%</th>\n",
       "      <td>5.000000</td>\n",
       "    </tr>\n",
       "    <tr>\n",
       "      <th>50%</th>\n",
       "      <td>13.000000</td>\n",
       "    </tr>\n",
       "    <tr>\n",
       "      <th>75%</th>\n",
       "      <td>27.000000</td>\n",
       "    </tr>\n",
       "    <tr>\n",
       "      <th>max</th>\n",
       "      <td>460.000000</td>\n",
       "    </tr>\n",
       "  </tbody>\n",
       "</table>\n",
       "</div>"
      ],
      "text/plain": [
       "             InflPn\n",
       "count  13833.000000\n",
       "mean      20.511241\n",
       "std       24.312357\n",
       "min        0.000000\n",
       "25%        5.000000\n",
       "50%       13.000000\n",
       "75%       27.000000\n",
       "max      460.000000"
      ]
     },
     "execution_count": 30,
     "metadata": {},
     "output_type": "execute_result"
    }
   ],
   "source": [
    "df[['State','WeekEndDate','InflPn']].describe()"
   ]
  },
  {
   "cell_type": "code",
   "execution_count": 33,
   "metadata": {},
   "outputs": [
    {
     "data": {
      "text/plain": [
       "[<matplotlib.lines.Line2D at 0x22ff5f2b348>]"
      ]
     },
     "execution_count": 33,
     "metadata": {},
     "output_type": "execute_result"
    },
    {
     "data": {
      "image/png": "[encoded data removed]",
      "text/plain": [
       "<Figure size 576x396 with 1 Axes>"
      ]
     },
     "metadata": {},
     "output_type": "display_data"
    }
   ],
   "source": [
    "plt.plot_date(df['WeekEndDate'], df['InflPn'])"
   ]
  }
 ],
 "metadata": {
  "kernelspec": {
   "display_name": "Python 3",
   "language": "python",
   "name": "python3"
  },
  "language_info": {
   "codemirror_mode": {
    "name": "ipython",
    "version": 3
   },
   "file_extension": ".py",
   "mimetype": "text/x-python",
   "name": "python",
   "nbconvert_exporter": "python",
   "pygments_lexer": "ipython3",
   "version": "3.7.6"
  }
 },
 "nbformat": 4,
 "nbformat_minor": 4
}
