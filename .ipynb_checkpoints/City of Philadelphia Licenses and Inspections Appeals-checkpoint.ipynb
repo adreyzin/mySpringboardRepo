{
 "cells": [
  {
   "cell_type": "markdown",
   "metadata": {},
   "source": [
    "# City of Philadelphia Licenses and Inspections Appeals\n",
    "\n",
    "The dataset contains decisions of Philadelphia Licenses and Inspections Appeal Board. The dataset contains 28869 records and 37 columns.\n",
    "\n",
    "Several columns such as Appeal Grounds, Related Permits and Proviso are in Natural Language format. \n",
    "\n",
    "Source: https://www.opendataphilly.org/dataset/license-and-inspections-appeals/resource/b721ad52-9e27-46d2-b494-6bf0ef1c7603?inner_span=True"
   ]
  },
  {
   "cell_type": "markdown",
   "metadata": {},
   "source": [
    "### I would like to research the relationship of the board decision stored in the column 'decision' and other values in the dataset such as Appeal Grounds(NL), Related Permits(NL), Proviso(NL) and well as property address(geospatial).\n"
   ]
  },
  {
   "cell_type": "code",
   "execution_count": 1,
   "metadata": {},
   "outputs": [],
   "source": [
    "#load python packages\n",
    "import os\n",
    "import pandas as pd\n",
    "import datetime\n",
    "import seaborn as sns\n",
    "#import matplotlib.pyplot as plt\n",
    "import numpy as np\n",
    "%matplotlib inline\n",
    "from pandas_profiling import ProfileReport"
   ]
  },
  {
   "cell_type": "code",
   "execution_count": 2,
   "metadata": {},
   "outputs": [
    {
     "name": "stderr",
     "output_type": "stream",
     "text": [
      "C:\\ProgramData\\Anaconda3\\lib\\site-packages\\IPython\\core\\interactiveshell.py:3063: DtypeWarning: Columns (20,23) have mixed types.Specify dtype option on import or set low_memory=False.\n",
      "  interactivity=interactivity, compiler=compiler, result=result)\n"
     ]
    }
   ],
   "source": [
    "#Database URL\n",
    "url = 'https://phl.carto.com/api/v2/sql?q=SELECT+*,+ST_Y(the_geom)+AS+lat,+ST_X(the_geom)+AS+lng+FROM+appeals&filename=appeals&format=csv&skipfields=cartodb_id'\n",
    "df = pd.read_csv(url)"
   ]
  },
  {
   "cell_type": "code",
   "execution_count": 3,
   "metadata": {},
   "outputs": [
    {
     "data": {
      "text/html": [
       "<div>\n",
       "<style scoped>\n",
       "    .dataframe tbody tr th:only-of-type {\n",
       "        vertical-align: middle;\n",
       "    }\n",
       "\n",
       "    .dataframe tbody tr th {\n",
       "        vertical-align: top;\n",
       "    }\n",
       "\n",
       "    .dataframe thead th {\n",
       "        text-align: right;\n",
       "    }\n",
       "</style>\n",
       "<table border=\"1\" class=\"dataframe\">\n",
       "  <thead>\n",
       "    <tr style=\"text-align: right;\">\n",
       "      <th></th>\n",
       "      <th>the_geom</th>\n",
       "      <th>the_geom_webmercator</th>\n",
       "      <th>objectid</th>\n",
       "      <th>addressobjectid</th>\n",
       "      <th>address</th>\n",
       "      <th>unit_type</th>\n",
       "      <th>unit_num</th>\n",
       "      <th>zip</th>\n",
       "      <th>opa_account_num</th>\n",
       "      <th>parcel_id_num</th>\n",
       "      <th>...</th>\n",
       "      <th>scheduleddate</th>\n",
       "      <th>decision</th>\n",
       "      <th>meetingresult</th>\n",
       "      <th>proviso</th>\n",
       "      <th>decisiondate</th>\n",
       "      <th>systemofrecord</th>\n",
       "      <th>geocode_x</th>\n",
       "      <th>geocode_y</th>\n",
       "      <th>lat</th>\n",
       "      <th>lng</th>\n",
       "    </tr>\n",
       "  </thead>\n",
       "  <tbody>\n",
       "    <tr>\n",
       "      <th>0</th>\n",
       "      <td>0101000020E6100000AF9F68DBCDCB52C09FA1095A7B06...</td>\n",
       "      <td>0101000020110F00004C85746155ED5FC1A74786F21597...</td>\n",
       "      <td>19</td>\n",
       "      <td>310443.0</td>\n",
       "      <td>6643 GERMANTOWN AVE</td>\n",
       "      <td>NaN</td>\n",
       "      <td>NaN</td>\n",
       "      <td>19119-2253</td>\n",
       "      <td>871528220.0</td>\n",
       "      <td>424826</td>\n",
       "      <td>...</td>\n",
       "      <td>2009-12-09 14:00:00</td>\n",
       "      <td>GRANTED/PROV</td>\n",
       "      <td>NaN</td>\n",
       "      <td>**Proviso - letter from East Mount Airy Associ...</td>\n",
       "      <td>2009-12-09 00:00:00</td>\n",
       "      <td>HANSEN</td>\n",
       "      <td>2.686631e+06</td>\n",
       "      <td>271736.630322</td>\n",
       "      <td>40.050639</td>\n",
       "      <td>-75.184440</td>\n",
       "    </tr>\n",
       "    <tr>\n",
       "      <th>1</th>\n",
       "      <td>0101000020E6100000C622E4E4AAC752C012749513E2FF...</td>\n",
       "      <td>0101000020110F0000E62423A04EE65FC19120F964C48F...</td>\n",
       "      <td>20</td>\n",
       "      <td>608597.0</td>\n",
       "      <td>523 E WESTMORELAND ST</td>\n",
       "      <td>NaN</td>\n",
       "      <td>NaN</td>\n",
       "      <td>19134-1735</td>\n",
       "      <td>871513340.0</td>\n",
       "      <td>296064</td>\n",
       "      <td>...</td>\n",
       "      <td>2009-12-09 14:00:00</td>\n",
       "      <td>GRANTED/PROV</td>\n",
       "      <td>NaN</td>\n",
       "      <td>***Proviso - signs approved by Art Commission</td>\n",
       "      <td>2009-12-09 00:00:00</td>\n",
       "      <td>HANSEN</td>\n",
       "      <td>2.705277e+06</td>\n",
       "      <td>253497.440113</td>\n",
       "      <td>39.999087</td>\n",
       "      <td>-75.119806</td>\n",
       "    </tr>\n",
       "    <tr>\n",
       "      <th>2</th>\n",
       "      <td>0101000020E610000004ABEC4F5FC952C000CA443988F8...</td>\n",
       "      <td>0101000020110F0000F3B0F3EC33E95FC16889C4EB9E87...</td>\n",
       "      <td>21</td>\n",
       "      <td>398975.0</td>\n",
       "      <td>200-10 LOMBARD ST</td>\n",
       "      <td>NaN</td>\n",
       "      <td>NaN</td>\n",
       "      <td>19147-1613</td>\n",
       "      <td>NaN</td>\n",
       "      <td>423779</td>\n",
       "      <td>...</td>\n",
       "      <td>2009-10-28 14:00:00</td>\n",
       "      <td>GRANTED</td>\n",
       "      <td>NaN</td>\n",
       "      <td>NaN</td>\n",
       "      <td>2009-10-28 00:00:00</td>\n",
       "      <td>HANSEN</td>\n",
       "      <td>2.698434e+06</td>\n",
       "      <td>232364.846752</td>\n",
       "      <td>39.941657</td>\n",
       "      <td>-75.146442</td>\n",
       "    </tr>\n",
       "    <tr>\n",
       "      <th>3</th>\n",
       "      <td>0101000020E6100000769EB347BCCA52C0F60B249009F5...</td>\n",
       "      <td>0101000020110F00002657C2AE84EB5FC1F9E9E911C083...</td>\n",
       "      <td>22</td>\n",
       "      <td>655689.0</td>\n",
       "      <td>2823 S 12TH ST</td>\n",
       "      <td>NaN</td>\n",
       "      <td>NaN</td>\n",
       "      <td>19148-4906</td>\n",
       "      <td>395317600.0</td>\n",
       "      <td>167506</td>\n",
       "      <td>...</td>\n",
       "      <td>2009-10-28 14:00:00</td>\n",
       "      <td>GRANTED</td>\n",
       "      <td>NaN</td>\n",
       "      <td>NaN</td>\n",
       "      <td>2009-10-28 00:00:00</td>\n",
       "      <td>HANSEN</td>\n",
       "      <td>2.692755e+06</td>\n",
       "      <td>222247.826051</td>\n",
       "      <td>39.914354</td>\n",
       "      <td>-75.167742</td>\n",
       "    </tr>\n",
       "    <tr>\n",
       "      <th>4</th>\n",
       "      <td>0101000020E6100000962D644E58CA52C06545FD0B9F03...</td>\n",
       "      <td>0101000020110F00000D37F2DDDAEA5FC1D4BF7395E993...</td>\n",
       "      <td>23</td>\n",
       "      <td>309998.0</td>\n",
       "      <td>4827 GERMANTOWN AVE</td>\n",
       "      <td>NaN</td>\n",
       "      <td>NaN</td>\n",
       "      <td>19144-3014</td>\n",
       "      <td>884351670.0</td>\n",
       "      <td>21219</td>\n",
       "      <td>...</td>\n",
       "      <td>2009-10-08 14:10:00</td>\n",
       "      <td>APPROVED</td>\n",
       "      <td>NaN</td>\n",
       "      <td>NaN</td>\n",
       "      <td>2009-10-29 00:00:00</td>\n",
       "      <td>HANSEN</td>\n",
       "      <td>2.693250e+06</td>\n",
       "      <td>263785.290578</td>\n",
       "      <td>40.028291</td>\n",
       "      <td>-75.161640</td>\n",
       "    </tr>\n",
       "  </tbody>\n",
       "</table>\n",
       "<p>5 rows × 37 columns</p>\n",
       "</div>"
      ],
      "text/plain": [
       "                                            the_geom  \\\n",
       "0  0101000020E6100000AF9F68DBCDCB52C09FA1095A7B06...   \n",
       "1  0101000020E6100000C622E4E4AAC752C012749513E2FF...   \n",
       "2  0101000020E610000004ABEC4F5FC952C000CA443988F8...   \n",
       "3  0101000020E6100000769EB347BCCA52C0F60B249009F5...   \n",
       "4  0101000020E6100000962D644E58CA52C06545FD0B9F03...   \n",
       "\n",
       "                                the_geom_webmercator  objectid  \\\n",
       "0  0101000020110F00004C85746155ED5FC1A74786F21597...        19   \n",
       "1  0101000020110F0000E62423A04EE65FC19120F964C48F...        20   \n",
       "2  0101000020110F0000F3B0F3EC33E95FC16889C4EB9E87...        21   \n",
       "3  0101000020110F00002657C2AE84EB5FC1F9E9E911C083...        22   \n",
       "4  0101000020110F00000D37F2DDDAEA5FC1D4BF7395E993...        23   \n",
       "\n",
       "   addressobjectid                address unit_type unit_num         zip  \\\n",
       "0         310443.0    6643 GERMANTOWN AVE       NaN      NaN  19119-2253   \n",
       "1         608597.0  523 E WESTMORELAND ST       NaN      NaN  19134-1735   \n",
       "2         398975.0      200-10 LOMBARD ST       NaN      NaN  19147-1613   \n",
       "3         655689.0         2823 S 12TH ST       NaN      NaN  19148-4906   \n",
       "4         309998.0    4827 GERMANTOWN AVE       NaN      NaN  19144-3014   \n",
       "\n",
       "   opa_account_num parcel_id_num  ...        scheduleddate      decision  \\\n",
       "0      871528220.0        424826  ...  2009-12-09 14:00:00  GRANTED/PROV   \n",
       "1      871513340.0        296064  ...  2009-12-09 14:00:00  GRANTED/PROV   \n",
       "2              NaN        423779  ...  2009-10-28 14:00:00       GRANTED   \n",
       "3      395317600.0        167506  ...  2009-10-28 14:00:00       GRANTED   \n",
       "4      884351670.0         21219  ...  2009-10-08 14:10:00      APPROVED   \n",
       "\n",
       "  meetingresult                                            proviso  \\\n",
       "0           NaN  **Proviso - letter from East Mount Airy Associ...   \n",
       "1           NaN      ***Proviso - signs approved by Art Commission   \n",
       "2           NaN                                                NaN   \n",
       "3           NaN                                                NaN   \n",
       "4           NaN                                                NaN   \n",
       "\n",
       "          decisiondate systemofrecord     geocode_x      geocode_y        lat  \\\n",
       "0  2009-12-09 00:00:00         HANSEN  2.686631e+06  271736.630322  40.050639   \n",
       "1  2009-12-09 00:00:00         HANSEN  2.705277e+06  253497.440113  39.999087   \n",
       "2  2009-10-28 00:00:00         HANSEN  2.698434e+06  232364.846752  39.941657   \n",
       "3  2009-10-28 00:00:00         HANSEN  2.692755e+06  222247.826051  39.914354   \n",
       "4  2009-10-29 00:00:00         HANSEN  2.693250e+06  263785.290578  40.028291   \n",
       "\n",
       "         lng  \n",
       "0 -75.184440  \n",
       "1 -75.119806  \n",
       "2 -75.146442  \n",
       "3 -75.167742  \n",
       "4 -75.161640  \n",
       "\n",
       "[5 rows x 37 columns]"
      ]
     },
     "execution_count": 3,
     "metadata": {},
     "output_type": "execute_result"
    }
   ],
   "source": [
    "df.head()"
   ]
  },
  {
   "cell_type": "code",
   "execution_count": 4,
   "metadata": {},
   "outputs": [
    {
     "name": "stdout",
     "output_type": "stream",
     "text": [
      "df.shape (29443, 37)\n"
     ]
    }
   ],
   "source": [
    "print(\"df.shape\", df.shape)"
   ]
  },
  {
   "cell_type": "code",
   "execution_count": 5,
   "metadata": {},
   "outputs": [
    {
     "data": {
      "text/plain": [
       "Index(['the_geom', 'the_geom_webmercator', 'objectid', 'addressobjectid',\n",
       "       'address', 'unit_type', 'unit_num', 'zip', 'opa_account_num',\n",
       "       'parcel_id_num', 'censustract', 'opa_owner', 'primaryappellant',\n",
       "       'appellanttype', 'internaljobid', 'appealnumber', 'acceleratedappeal',\n",
       "       'createddate', 'completeddate', 'relatedpermit', 'relatedcasefile',\n",
       "       'appealstatus', 'appealtype', 'agendadescription', 'applicationtype',\n",
       "       'meetingnumber', 'appealgrounds', 'scheduleddate', 'decision',\n",
       "       'meetingresult', 'proviso', 'decisiondate', 'systemofrecord',\n",
       "       'geocode_x', 'geocode_y', 'lat', 'lng'],\n",
       "      dtype='object')"
      ]
     },
     "execution_count": 5,
     "metadata": {},
     "output_type": "execute_result"
    }
   ],
   "source": [
    "df.columns"
   ]
  },
  {
   "cell_type": "code",
   "execution_count": 6,
   "metadata": {},
   "outputs": [
    {
     "name": "stdout",
     "output_type": "stream",
     "text": [
      "<class 'pandas.core.frame.DataFrame'>\n",
      "RangeIndex: 29443 entries, 0 to 29442\n",
      "Data columns (total 37 columns):\n",
      " #   Column                Non-Null Count  Dtype  \n",
      "---  ------                --------------  -----  \n",
      " 0   the_geom              28839 non-null  object \n",
      " 1   the_geom_webmercator  28839 non-null  object \n",
      " 2   objectid              29443 non-null  int64  \n",
      " 3   addressobjectid       28875 non-null  float64\n",
      " 4   address               28864 non-null  object \n",
      " 5   unit_type             98 non-null     object \n",
      " 6   unit_num              551 non-null    object \n",
      " 7   zip                   28864 non-null  object \n",
      " 8   opa_account_num       27619 non-null  float64\n",
      " 9   parcel_id_num         28194 non-null  object \n",
      " 10  censustract           28839 non-null  float64\n",
      " 11  opa_owner             28293 non-null  object \n",
      " 12  primaryappellant      29443 non-null  object \n",
      " 13  appellanttype         29015 non-null  object \n",
      " 14  internaljobid         27715 non-null  float64\n",
      " 15  appealnumber          29442 non-null  object \n",
      " 16  acceleratedappeal     1300 non-null   object \n",
      " 17  createddate           29443 non-null  object \n",
      " 18  completeddate         12106 non-null  object \n",
      " 19  relatedpermit         28588 non-null  object \n",
      " 20  relatedcasefile       8 non-null      object \n",
      " 21  appealstatus          29443 non-null  object \n",
      " 22  appealtype            1728 non-null   object \n",
      " 23  agendadescription     1 non-null      object \n",
      " 24  applicationtype       28808 non-null  object \n",
      " 25  meetingnumber         1093 non-null   object \n",
      " 26  appealgrounds         29431 non-null  object \n",
      " 27  scheduleddate         28366 non-null  object \n",
      " 28  decision              26737 non-null  object \n",
      " 29  meetingresult         368 non-null    object \n",
      " 30  proviso               11674 non-null  object \n",
      " 31  decisiondate          27254 non-null  object \n",
      " 32  systemofrecord        29443 non-null  object \n",
      " 33  geocode_x             28839 non-null  float64\n",
      " 34  geocode_y             28839 non-null  float64\n",
      " 35  lat                   28839 non-null  float64\n",
      " 36  lng                   28839 non-null  float64\n",
      "dtypes: float64(8), int64(1), object(28)\n",
      "memory usage: 8.3+ MB\n"
     ]
    }
   ],
   "source": [
    "df.info()"
   ]
  },
  {
   "cell_type": "code",
   "execution_count": 7,
   "metadata": {},
   "outputs": [
    {
     "data": {
      "text/plain": [
       "the_geom                0.774310\n",
       "the_geom_webmercator    0.774310\n",
       "objectid                1.000000\n",
       "addressobjectid         0.799409\n",
       "address                 0.779506\n",
       "unit_type               0.000204\n",
       "unit_num                0.004585\n",
       "zip                     0.467921\n",
       "opa_account_num         0.746629\n",
       "parcel_id_num           0.746833\n",
       "censustract             0.012974\n",
       "opa_owner               0.680128\n",
       "primaryappellant        0.454098\n",
       "appellanttype           0.000272\n",
       "internaljobid           0.941310\n",
       "appealnumber            0.999966\n",
       "acceleratedappeal       0.000068\n",
       "createddate             0.998574\n",
       "completeddate           0.410522\n",
       "relatedpermit           0.951805\n",
       "relatedcasefile         0.000272\n",
       "appealstatus            0.000374\n",
       "appealtype              0.000442\n",
       "agendadescription       0.000034\n",
       "applicationtype         0.000238\n",
       "meetingnumber           0.037123\n",
       "appealgrounds           0.919641\n",
       "scheduleddate           0.170227\n",
       "decision                0.001019\n",
       "meetingresult           0.000238\n",
       "proviso                 0.225181\n",
       "decisiondate            0.080528\n",
       "systemofrecord          0.000068\n",
       "geocode_x               0.788914\n",
       "geocode_y               0.788744\n",
       "lat                     0.774310\n",
       "lng                     0.774310\n",
       "dtype: float64"
      ]
     },
     "execution_count": 7,
     "metadata": {},
     "output_type": "execute_result"
    }
   ],
   "source": [
    "df.nunique()/df.shape[0]"
   ]
  },
  {
   "cell_type": "code",
   "execution_count": 9,
   "metadata": {},
   "outputs": [
    {
     "data": {
      "text/plain": [
       "GRANTED                  8437\n",
       "GRANTED/PROV             6263\n",
       "WITHDRAWN                2421\n",
       "MOOT                     2284\n",
       "AFFIRMED                 1957\n",
       "DENIED                   1798\n",
       "APPROVED                 1557\n",
       "DISMISSED                 937\n",
       "Complete                  285\n",
       "SUSTAINED                 255\n",
       "CONTINUED                 225\n",
       "DENIED/PROV                69\n",
       "ADMIN/REVIEW               63\n",
       "DISMI/ENFORC               42\n",
       "REMAND                     38\n",
       "Dismissed / Withdrawn      36\n",
       "HELD                       17\n",
       "NEWHEARNOT                 12\n",
       "HELD/INFO                   9\n",
       "BOARDAKNOWL                 7\n",
       "Continued                   7\n",
       "REFUSED                     3\n",
       "LATE-APPRVD                 3\n",
       "Cancelled                   3\n",
       "REVISED                     2\n",
       "LATE-DENIED                 2\n",
       "NEWHEARYES                  2\n",
       "Rescheduled                 1\n",
       "ISSUED                      1\n",
       "RESCHEDULE                  1\n",
       "Name: decision, dtype: int64"
      ]
     },
     "execution_count": 9,
     "metadata": {},
     "output_type": "execute_result"
    }
   ],
   "source": [
    "#Breakdown by decision\n",
    "df['decision'].value_counts()"
   ]
  },
  {
   "cell_type": "code",
   "execution_count": 10,
   "metadata": {},
   "outputs": [
    {
     "data": {
      "text/plain": [
       "PERMIT FOR TWO (2) FAMILY DWELLING IN AN EXISTING STRUCTURE.                                                                                                                                                                                                                                                                                                                                                                                                                                                                                                                                  125\n",
       "PERMIT FOR A TWO (2) FAMILY DWELLING IN AN EXISTING STRUCTURE.                                                                                                                                                                                                                                                                                                                                                                                                                                                                                                                                 66\n",
       "WE ARE APPEALING THE ISSUANCE OF BUILDING PERMIT #765070 FOR HEALTH AND ENVIRONMENTAL CONCERNS.                                                                                                                                                                                                                                                                                                                                                                                                                                                                                                63\n",
       "PERMIT FOR THREE (3) FAMILY DWELLING (MULTI-FAMILY DWELLING) IN AN EXISTING STRUCTURE.                                                                                                                                                                                                                                                                                                                                                                                                                                                                                                         62\n",
       "PERMIT FOR A TWO(2) FAMILY DWELLING.                                                                                                                                                                                                                                                                                                                                                                                                                                                                                                                                                           57\n",
       "                                                                                                                                                                                                                                                                                                                                                                                                                                                                                                                                                                                             ... \n",
       "PERMIT FOR A ROOMING HOUSE WITH THREE UNITS FOR A MAXIMUM OF SIX PERSONS, ALL PERSONS SELF-SUSTAINING AND CAPABLE OF SELF PRESERVATION AND NO PERSONS UNDER THE JURISDICTION OF ANY COURT.                                                                                                                                                                                                                                                                                                                                                                                                      1\n",
       "ON 10/27-11/3 THE PHILADELPHIA GAS WORKS INFORMED ME THEY WERE CHANGING THE GAS LINE ON 11/20/11.  CONTACTED THE PWD TO INFORM THEM I HEAR RUNNING WATER COMING FROM THE OUTSIDE FROM MY BASEMENT BATHROOM.                                                                                                                                                                                                                                                                                                                                                                                     1\n",
       "APPELLANT NEEDS ADDITIONAL TIME FOR COMPLIANCE.                                                                                                                                                                                                                                                                                                                                                                                                                                                                                                                                                 1\n",
       "PERMIT FOR THE ELIMINATION OF AN INTERIOR GARAGE; FOR THE EXPANSION OF THE FIRST FLOOR INTO THE ELIMINATED GARAGE SPACE (NO CHANGE IN BUILDING HEIGHT OR AREA); FOR THE CREATION OF ONE (1) OPEN-AIR ACCESSORY OFF-STREET PARKING SPACE (REAR); AS PART OF AN EXISTING THREE STORY STRUCTURE WITH CELLAR AND DECK AS PREVIOUSLY APPROVED WITH AN EXISTING COMMERCIAL SPACE AS PERMITTED IN THE C-2 COMMERCIAL DISTRICT AND IN THE NORTH DELAWARE AVENUE SPECIAL DISTRICT IN THE CELLAR AND 1ST FLOOR (USE REGISTRATION PRIOR TO OCCUPANCY), AND AN EXISTING TWO (2) FAMILY DWELLING ABOVE.      1\n",
       "HOUSE IS A SINGLE-FAMILY 2-STORY WITH A FUNCTIONING HEATING SYSTEM CONTROLLED BY THE OCCUPANT. IT IS NOT A ROOMING HOUSE, MULTI-UNIT, OR MULTI-FAMILY HOUSE.                                                                                                                                                                                                                                                                                                                                                                                                                                    1\n",
       "Name: appealgrounds, Length: 27077, dtype: int64"
      ]
     },
     "execution_count": 10,
     "metadata": {},
     "output_type": "execute_result"
    }
   ],
   "source": [
    "df['appealgrounds'].value_counts()"
   ]
  },
  {
   "cell_type": "code",
   "execution_count": 11,
   "metadata": {},
   "outputs": [
    {
     "data": {
      "text/plain": [
       "Description of Project:  PWD\\n  APPEAL TYPES==> \\nAPPEAL TYPE: WATER  \\n\\n  BOARD DECISIONS==> \\n\\n  COURT APPEALS==> \\n                                                                                                                                                  57\n",
       "Description of Project:  TOBACCO\\n  APPEAL TYPES==> \\nAPPEAL TYPE:   \\n\\n  BOARD DECISIONS==> \\n\\n  COURT APPEALS==> \\n                                                                                                                                                   46\n",
       "Description of Project:  SM/LRG FOOD ESTAB\\n  APPEAL TYPES==> \\nAPPEAL TYPE: LI-REFGRNT  \\n\\n  BOARD DECISIONS==> \\nDECISION: CONTINUED  DECDATE: 16-OCT-18  PROVISO:   \\n\\n  COURT APPEALS==> \\n                                                                         30\n",
       "Description of Project:  BUILDING PERMIT #765070\\n  APPEAL TYPES==> \\nAPPEAL TYPE: AGAINSTL&I  \\n\\n  BOARD DECISIONS==> \\nDECISION: AFFIRMED  DECDATE: 28-JUL-17  PROVISO:   \\n\\n  COURT APPEALS==> \\n                                                                    28\n",
       "Description of Project:  VENDING\\n  APPEAL TYPES==> \\nAPPEAL TYPE: BC-VIOL  \\n\\n  BOARD DECISIONS==> \\n\\n  COURT APPEALS==> \\n                                                                                                                                            21\n",
       "                                                                                                                                                                                                                                                                          ..\n",
       "Description of Project:  258766\\n  APPEAL TYPES==> \\nAPPEAL TYPE: USEVAR  \\nAPPEAL TYPE: ZONEVAR  \\n\\n  BOARD DECISIONS==> \\nDECISION: CONTINUED  DECDATE: 14-APR-10  PROVISO:   \\nDECISION: GRANTED  DECDATE: 25-MAY-10  PROVISO:   \\n\\n  COURT APPEALS==> \\n             1\n",
       "Description of Project:  PWD-LATERAL\\n  APPEAL TYPES==> \\nAPPEAL TYPE: WATER  \\n\\n  BOARD DECISIONS==> \\nDECISION: AFFIRMED  DECDATE: 03-APR-13  PROVISO:   \\n\\n  COURT APPEALS==> \\n                                                                                      1\n",
       "Description of Project:  232439\\n  APPEAL TYPES==> \\nAPPEAL TYPE: USEVAR  \\n\\n  BOARD DECISIONS==> \\nDECISION: GRANTED  DECDATE: 18-NOV-09  PROVISO:   \\n\\n  COURT APPEALS==> \\n                                                                                           1\n",
       "Description of Project:  409074\\n  APPEAL TYPES==> \\nAPPEAL TYPE: USEVAR  \\nAPPEAL TYPE: ZONEVAR  \\n\\n  BOARD DECISIONS==> \\nDECISION: HELD  DECDATE: 14-AUG-12  PROVISO: FOR DISCUSSION  \\nDECISION: DENIED  DECDATE: 22-AUG-12  PROVISO:   \\n\\n  COURT APPEALS==> \\n     1\n",
       "Description of Project:  434881\\n  APPEAL TYPES==> \\nAPPEAL TYPE: USEVAR  \\n\\n  BOARD DECISIONS==> \\nDECISION: CONTINUED  DECDATE: 13-FEB-13  PROVISO:   \\nDECISION: DENIED  DECDATE: 24-APR-13  PROVISO:   \\n\\n  COURT APPEALS==> \\n                                      1\n",
       "Name: relatedpermit, Length: 28024, dtype: int64"
      ]
     },
     "execution_count": 11,
     "metadata": {},
     "output_type": "execute_result"
    }
   ],
   "source": [
    "df['relatedpermit'].value_counts()                 "
   ]
  },
  {
   "cell_type": "code",
   "execution_count": 12,
   "metadata": {
    "scrolled": true
   },
   "outputs": [
    {
     "data": {
      "text/plain": [
       "COMPLIED                                                                                                                                                                                                1752\n",
       "FOR WANT OF APPEARANCE                                                                                                                                                                                   737\n",
       "*****CASE WITHDRAWN.*****                                                                                                                                                                                402\n",
       "*****CASE DISMISSED.*****                                                                                                                                                                                163\n",
       "*****CASE DISMISSED - PUT INTO ENFORCEMENT.*****                                                                                                                                                         109\n",
       "                                                                                                                                                                                                        ... \n",
       "*** REVISED PLANS 1 PG STAMPED TODAY ***                                                                                                                                                                   1\n",
       "REVISED PLANS CONSISTING OF 1 PAGE STAMPED TODAY 2/28/17 BY ZBA; NO MEDICAL OFFICE IN COMMERICAL SPACE                                                                                                     1\n",
       "REVISED PLANS CONSISTING OF 1 PAGE STAMPED TODAY 10/5/16 BY ZBA                                                                                                                                            1\n",
       "With Provisos: (1) No parking on sidewalk, \\r\\n(2) No body and fender work;\\r\\n(3) Hours of operation 9 am to 5 pm Monday thru Friday.\\r\\n(4) All work indoors; and\\r\\n(5) Commercial trash pick up.       1\n",
       "*****PROVISO:  DECK SETBACK 10' FROM FACADE; NO FURTHER ENCLOSURES.*****                                                                                                                                   1\n",
       "Name: proviso, Length: 6630, dtype: int64"
      ]
     },
     "execution_count": 12,
     "metadata": {},
     "output_type": "execute_result"
    }
   ],
   "source": [
    "df['proviso'].value_counts()"
   ]
  },
  {
   "cell_type": "markdown",
   "metadata": {},
   "source": [
    "Clean target variable - Decision  \n",
    "Create that variable as a numerical value - integer  \n",
    "Pursue the long and lat first, and other available continues features"
   ]
  }
 ],
 "metadata": {
  "kernelspec": {
   "display_name": "Python 3",
   "language": "python",
   "name": "python3"
  },
  "language_info": {
   "codemirror_mode": {
    "name": "ipython",
    "version": 3
   },
   "file_extension": ".py",
   "mimetype": "text/x-python",
   "name": "python",
   "nbconvert_exporter": "python",
   "pygments_lexer": "ipython3",
   "version": "3.7.6"
  }
 },
 "nbformat": 4,
 "nbformat_minor": 4
}
